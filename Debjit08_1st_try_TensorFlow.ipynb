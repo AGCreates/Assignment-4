{
  "nbformat": 4,
  "nbformat_minor": 0,
  "metadata": {
    "colab": {
      "name": "1st_try_TensorFlow.ipynb",
      "version": "0.3.2",
      "provenance": [],
      "include_colab_link": true
    },
    "kernelspec": {
      "name": "python3",
      "display_name": "Python 3"
    }
  },
  "cells": [
    {
      "cell_type": "markdown",
      "metadata": {
        "id": "view-in-github",
        "colab_type": "text"
      },
      "source": [
        "[View in Colaboratory](https://colab.research.google.com/github/Debjit08/Assignment-4/blob/Debjit08/Debjit08_1st_try_TensorFlow.ipynb)"
      ]
    },
    {
      "metadata": {
        "id": "2XXfXed5YLbe",
        "colab_type": "text"
      },
      "cell_type": "markdown",
      "source": [
        "# First Date with TensorFlow\n",
        "\n"
      ]
    },
    {
      "metadata": {
        "id": "gYWUpE-bYKWP",
        "colab_type": "code",
        "colab": {}
      },
      "cell_type": "code",
      "source": [
        "# Essential imports\n",
        "import numpy as np\n",
        "import tensorflow as tf\n",
        "import matplotlib.pyplot as plt"
      ],
      "execution_count": 0,
      "outputs": []
    },
    {
      "metadata": {
        "id": "QDZS_khF4Iau",
        "colab_type": "text"
      },
      "cell_type": "markdown",
      "source": [
        ""
      ]
    },
    {
      "metadata": {
        "id": "eKpz5NCIYMdi",
        "colab_type": "code",
        "colab": {}
      },
      "cell_type": "code",
      "source": [
        "# Let's define some tensors\n",
        "t1 = tf.constant(2.0, dtype=tf.float32)\n",
        "t2 = tf.constant([1.0, 2.0], dtype=tf.float32)\n",
        "t3 = tf.constant([[[1.0, 9.0], [2.0, 3.0], [4.0, 5.0]], \n",
        "                  [[1.0, 9.0], [2.0, 3.0], [4.0, 5.0]]])"
      ],
      "execution_count": 0,
      "outputs": []
    },
    {
      "metadata": {
        "id": "vmMcjzTxbWzw",
        "colab_type": "code",
        "colab": {
          "base_uri": "https://localhost:8080/",
          "height": 68
        },
        "outputId": "e0fa7e35-bc7c-4977-e1e9-1b5081646716"
      },
      "cell_type": "code",
      "source": [
        "# Let's print them out!\n",
        "print (t1)\n",
        "print (t2)\n",
        "print (t3)"
      ],
      "execution_count": 24,
      "outputs": [
        {
          "output_type": "stream",
          "text": [
            "Tensor(\"Const_9:0\", shape=(), dtype=float32)\n",
            "Tensor(\"Const_10:0\", shape=(2,), dtype=float32)\n",
            "Tensor(\"Const_11:0\", shape=(2, 3, 2), dtype=float32)\n"
          ],
          "name": "stdout"
        }
      ]
    },
    {
      "metadata": {
        "id": "ol6O5I7Tb2nb",
        "colab_type": "code",
        "colab": {
          "base_uri": "https://localhost:8080/",
          "height": 204
        },
        "outputId": "24b2d06a-5f58-497e-8abf-08082354a680"
      },
      "cell_type": "code",
      "source": [
        "sess = tf.Session()\n",
        "print (sess.run(t1))\n",
        "print (\"=======================\")\n",
        "print (sess.run(t2))\n",
        "print (\"=======================\")\n",
        "print (sess.run(t3))\n",
        "sess.close()"
      ],
      "execution_count": 25,
      "outputs": [
        {
          "output_type": "stream",
          "text": [
            "2.0\n",
            "=======================\n",
            "[1. 2.]\n",
            "=======================\n",
            "[[[1. 9.]\n",
            "  [2. 3.]\n",
            "  [4. 5.]]\n",
            "\n",
            " [[1. 9.]\n",
            "  [2. 3.]\n",
            "  [4. 5.]]]\n"
          ],
          "name": "stdout"
        }
      ]
    },
    {
      "metadata": {
        "id": "FyVz0GNqgreZ",
        "colab_type": "code",
        "colab": {
          "base_uri": "https://localhost:8080/",
          "height": 51
        },
        "outputId": "dc879723-25c1-47b6-c3f2-46f6288c3ec1"
      },
      "cell_type": "code",
      "source": [
        "# Let's define the graph\n",
        "comp_graph_1 = tf.multiply(tf.add(78, 19), 79)\n",
        "\n",
        "# Alternatively\n",
        "comp_graph_1_alt = (tf.constant(78) + tf.constant(19)) * tf.constant(79)\n",
        "\n",
        "# Let's execute using session\n",
        "sess = tf.Session()\n",
        "print ('Comp Graph 1    : ', sess.run(comp_graph_1))\n",
        "print ('Comp Graph 1 Alt: ', sess.run(comp_graph_1_alt))\n",
        "sess.close()"
      ],
      "execution_count": 26,
      "outputs": [
        {
          "output_type": "stream",
          "text": [
            "Comp Graph 1    :  7663\n",
            "Comp Graph 1 Alt:  7663\n"
          ],
          "name": "stdout"
        }
      ]
    },
    {
      "metadata": {
        "id": "SVMMtuFYhaQB",
        "colab_type": "text"
      },
      "cell_type": "markdown",
      "source": [
        "Let's define a sligtly more involved graph!\n",
        "\n",
        "![alt text](https://raw.githubusercontent.com/iArunava/TensorFlow-NoteBooks/master/assets/comp_graph_2.jpg)"
      ]
    },
    {
      "metadata": {
        "id": "4856BTvRhiBb",
        "colab_type": "code",
        "colab": {
          "base_uri": "https://localhost:8080/",
          "height": 68
        },
        "outputId": "3bd6e182-bc3a-4a6f-ff05-228477dbd7f9"
      },
      "cell_type": "code",
      "source": [
        "# Let build the graph\n",
        "# We need to cast cause the tensors operated on should be of the same type\n",
        "comp_graph_part_1 = tf.cast(tf.subtract(tf.add(7, 8), tf.add(9, 10)), \n",
        "                            dtype=tf.float32)\n",
        "comp_graph_part_2 = tf.divide(tf.cast(tf.multiply(7, 10), dtype=tf.float32), tf.constant(19.5))\n",
        "comp_graph_complete = tf.maximum(comp_graph_part_1, comp_graph_part_2)\n",
        "\n",
        "# Let's execute\n",
        "sess = tf.Session()\n",
        "part1_res, part2_res, total_res = sess.run([comp_graph_part_1, comp_graph_part_2, comp_graph_complete])\n",
        "print ('Complete Result: ', total_res)\n",
        "print ('Part 1 Result: ', part1_res)\n",
        "print ('Part 2 Result: ', part2_res)\n",
        "sess.close()"
      ],
      "execution_count": 27,
      "outputs": [
        {
          "output_type": "stream",
          "text": [
            "Complete Result:  3.5897436\n",
            "Part 1 Result:  -4.0\n",
            "Part 2 Result:  3.5897436\n"
          ],
          "name": "stdout"
        }
      ]
    },
    {
      "metadata": {
        "id": "B-_ZDtEbj4N0",
        "colab_type": "text"
      },
      "cell_type": "markdown",
      "source": [
        "##Exercise:1\n",
        "\n",
        "![alt text](https://raw.githubusercontent.com/iArunava/TensorFlow-NoteBooks/master/assets/comp_graph_3.jpg)\n"
      ]
    },
    {
      "metadata": {
        "id": "-uHNe1BolJY0",
        "colab_type": "code",
        "colab": {
          "base_uri": "https://localhost:8080/",
          "height": 68
        },
        "outputId": "cfc304cc-4ff9-44a4-8adc-412a8d926dad"
      },
      "cell_type": "code",
      "source": [
        "#CODE:\n",
        "# Build the graph:\n",
        "cg_1 = tf.divide(tf.cast(tf.multiply([9.0,10.0], [7.0,8.65]), dtype=tf.float32), tf.constant(5.6))\n",
        "cg_2 = tf.cast(tf.add([7.65,9.0], [13.5,7.18]),dtype=tf.float32)\n",
        "cgc = tf.minimum(cg_1, cg_2)\n",
        "\n",
        "# Let's execute:\n",
        "sess = tf.Session()\n",
        "p1_res, p2_res, total_res = sess.run([cg_1, cg_2, cgc])\n",
        "print ('Complete Result: ', total_res)\n",
        "print ('Part 1 Result: ', p1_res)\n",
        "print ('Part 2 Result: ', p2_res)\n",
        "sess.close()"
      ],
      "execution_count": 28,
      "outputs": [
        {
          "output_type": "stream",
          "text": [
            "Complete Result:  [11.25     15.446429]\n",
            "Part 1 Result:  [11.25     15.446429]\n",
            "Part 2 Result:  [21.15 16.18]\n"
          ],
          "name": "stdout"
        }
      ]
    },
    {
      "metadata": {
        "id": "qmap38WelREN",
        "colab_type": "text"
      },
      "cell_type": "markdown",
      "source": [
        "##Exercise:2\n",
        "\n",
        "![alt text](https://raw.githubusercontent.com/iArunava/TensorFlow-NoteBooks/master/assets/comp_graph_4.jpg)"
      ]
    },
    {
      "metadata": {
        "id": "0ZhYwAlLmEvB",
        "colab_type": "code",
        "colab": {
          "base_uri": "https://localhost:8080/",
          "height": 119
        },
        "outputId": "322ef623-99c8-45a1-aa8d-e9c75e443933"
      },
      "cell_type": "code",
      "source": [
        "# Build the graph:\n",
        "x=np.array([[1.2,3.4],[7.5,8.6]])\n",
        "y=np.array([[7.0,9.0],[8.0,6.0]])\n",
        "print(np.min(x,axis=1))\n",
        "trl_1=tf.cast(tf.multiply(np.min(x,axis=1),y),dtype=tf.float32)\n",
        "sess=tf.Session()\n",
        "z=np.array([[2.6,18.1],[7.86,9.81],[9.36,10.41]])\n",
        "z=np.transpose(z)\n",
        "w=np.array([[2.79,3.81,5.6],[7.3,5.67,8.9]])\n",
        "trl_2=tf.cast(np.sum(sess.run(tf.multiply(w,z))),dtype=tf.float32)\n",
        "final=tf.add(trl_1,trl_2)\n",
        "\n",
        "# Execute:\n",
        "p1_res, p2_res, total_res = sess.run([trl_1, trl_2, final])\n",
        "print ('Complete Result: ', total_res)\n",
        "print ('Part 1 Result: ', p1_res)\n",
        "print ('Part 2 Result: ', p2_res)\n",
        "sess.close()"
      ],
      "execution_count": 29,
      "outputs": [
        {
          "output_type": "stream",
          "text": [
            "[1.2 7.5]\n",
            "Complete Result:  [[378.4183  437.5183 ]\n",
            " [379.61832 415.0183 ]]\n",
            "Part 1 Result:  [[ 8.4 67.5]\n",
            " [ 9.6 45. ]]\n",
            "Part 2 Result:  370.0183\n"
          ],
          "name": "stdout"
        }
      ]
    },
    {
      "metadata": {
        "id": "BnB0b6qCmGmg",
        "colab_type": "text"
      },
      "cell_type": "markdown",
      "source": [
        "##Exercise:3\n",
        "\n",
        "![alt text](https://raw.githubusercontent.com/iArunava/TensorFlow-NoteBooks/master/assets/comp_graph_5.jpg)"
      ]
    },
    {
      "metadata": {
        "id": "GQWyCvsQmMcL",
        "colab_type": "code",
        "colab": {
          "base_uri": "https://localhost:8080/",
          "height": 68
        },
        "outputId": "93c384c3-b0da-414a-99b4-d80b1ec06e08"
      },
      "cell_type": "code",
      "source": [
        "# Build the graph:\n",
        "sess=tf.Session()\n",
        "x=np.array([[7.36,8.91,10.41],[5.31,9.38,7.99]])\n",
        "y=np.transpose(np.array([[7.99,10.36],[5.36,7.98],[8.91,5.67]]))\n",
        "trl_1=tf.cast(tf.divide(tf.add(7.0,np.sum(sess.run(tf.multiply(x,y)))),19.6),dtype=tf.float32)\n",
        "total=tf.divide(trl_1,tf.constant([[1,5.6,6.1,8],[0,0,7.98,9],[0,0,7.6,7],[0,0,0,8.98]],dtype=tf.float32))\n",
        "# Execute:\n",
        "p1_res,total_res = sess.run([trl_1, final])\n",
        "print ('Complete Result: ', total_res)\n",
        "print ('Part 1 Result: ', p1_res)\n",
        "\n",
        "sess.close()"
      ],
      "execution_count": 30,
      "outputs": [
        {
          "output_type": "stream",
          "text": [
            "Complete Result:  [[378.4183  437.5183 ]\n",
            " [379.61832 415.0183 ]]\n",
            "Part 1 Result:  19.46349\n"
          ],
          "name": "stdout"
        }
      ]
    },
    {
      "metadata": {
        "id": "12NC7XTPsJw7",
        "colab_type": "text"
      },
      "cell_type": "markdown",
      "source": [
        "# Linear Regression\n",
        "\n",
        "Okay, now we will create a dummy dataset and perform linear regression on this dataset!\n",
        "\n",
        "\n"
      ]
    },
    {
      "metadata": {
        "id": "hW31RZkjtNwI",
        "colab_type": "code",
        "colab": {}
      },
      "cell_type": "code",
      "source": [
        "# Create the dataset\n",
        "X = np.linspace(-30.0, 300.0, 300)\n",
        "Y = 2 * np.linspace(-30.0, 250.0, 300) + np.random.randn(*X.shape)\n",
        "\n",
        "#print(X)\n",
        "#print(Y)\n",
        "#Normalizing the dataset\n",
        "X = X / np.max(X)\n",
        "Y = Y / np.max(Y)\n",
        "\n",
        "# Divide it into train and test\n",
        "train_X = X[:250]\n",
        "train_Y = Y[:250]\n",
        "\n",
        "test_X = X[250:]\n",
        "test_Y = Y[250:]"
      ],
      "execution_count": 0,
      "outputs": []
    },
    {
      "metadata": {
        "id": "LQKy6U33y4lt",
        "colab_type": "code",
        "colab": {}
      },
      "cell_type": "code",
      "source": [
        "# Let's define the hyperparameters\n",
        "learning_rate = 0.000005\n",
        "n_epochs = 1000\n",
        "interval = 50"
      ],
      "execution_count": 0,
      "outputs": []
    },
    {
      "metadata": {
        "id": "1h1-D8K1uT48",
        "colab_type": "code",
        "colab": {
          "base_uri": "https://localhost:8080/",
          "height": 347
        },
        "outputId": "673ece1c-e6f5-40b9-f0e6-4ee77669453d"
      },
      "cell_type": "code",
      "source": [
        "# let's viz the first 10 datapoints of the dataset\n",
        "plt.plot(train_X[:10], train_Y[:10], 'g')\n",
        "plt.show()"
      ],
      "execution_count": 33,
      "outputs": [
        {
          "output_type": "display_data",
          "data": {
            "image/png": "[encoded data removed]",
            "text/plain": [
              "<matplotlib.figure.Figure at 0x7f808c9fabe0>"
            ]
          },
          "metadata": {
            "tags": []
          }
        }
      ]
    },
    {
      "metadata": {
        "id": "P3-iuxE4sjAf",
        "colab_type": "code",
        "colab": {
          "base_uri": "https://localhost:8080/",
          "height": 721
        },
        "outputId": "c71149ec-57db-42e7-afbe-3ea437aeb999"
      },
      "cell_type": "code",
      "source": [
        "#Creating the placeholders\n",
        "x = tf.placeholder(tf.float32, name=\"x\")\n",
        "y = tf.placeholder(tf.float32, name=\"y\")\n",
        "\n",
        "\n",
        "W = tf.Variable(0.0, name='weight_1')\n",
        "b = tf.Variable(0.0, name='bias_1')\n",
        "\n",
        "pred_y = (W*x) + b\n",
        "\n",
        "loss = tf.reduce_mean(tf.square(y - pred_y))\n",
        "\n",
        "optimizer = tf.train.GradientDescentOptimizer(learning_rate=learning_rate).minimize(loss)\n",
        "\n",
        "with tf.Session() as sess:\n",
        "\n",
        "  sess.run(tf.global_variables_initializer())\n",
        "  \n",
        "  for epoch in range(n_epochs):\n",
        "    _, curr_loss = sess.run([optimizer, loss], feed_dict={x:train_X, y:train_Y})\n",
        "    \n",
        "    if epoch % interval == 0:\n",
        "      print ('Loss after epoch', epoch, ' is ', curr_loss)\n",
        "    \n",
        "  print ('Now testing the model in the test set')\n",
        "  final_preds, final_loss = sess.run([pred_y, loss], feed_dict={x:test_X, y:test_Y})\n",
        "    \n",
        "  print ('The final loss is: ', final_loss)\n",
        "  \n",
        "  plt.plot(test_X[:10], test_Y[:10], 'g', label='True Function')\n",
        "  plt.plot(test_X[:10], final_preds[:10], 'r', label='Predicted Function')\n",
        "  plt.legend()\n",
        "  plt.show()"
      ],
      "execution_count": 34,
      "outputs": [
        {
          "output_type": "stream",
          "text": [
            "Loss after epoch 0  is  0.19245367\n",
            "Loss after epoch 50  is  0.19229609\n",
            "Loss after epoch 100  is  0.19213869\n",
            "Loss after epoch 150  is  0.19198143\n",
            "Loss after epoch 200  is  0.19182435\n",
            "Loss after epoch 250  is  0.19166744\n",
            "Loss after epoch 300  is  0.19151072\n",
            "Loss after epoch 350  is  0.19135417\n",
            "Loss after epoch 400  is  0.1911978\n",
            "Loss after epoch 450  is  0.19104157\n",
            "Loss after epoch 500  is  0.19088557\n",
            "Loss after epoch 550  is  0.19072971\n",
            "Loss after epoch 600  is  0.19057402\n",
            "Loss after epoch 650  is  0.19041851\n",
            "Loss after epoch 700  is  0.19026317\n",
            "Loss after epoch 750  is  0.190108\n",
            "Loss after epoch 800  is  0.18995301\n",
            "Loss after epoch 850  is  0.1897982\n",
            "Loss after epoch 900  is  0.18964358\n",
            "Loss after epoch 950  is  0.18948908\n",
            "Now testing the model in the test set\n",
            "The final loss is:  0.8151148\n"
          ],
          "name": "stdout"
        },
        {
          "output_type": "display_data",
          "data": {
            "image/png": "[encoded data removed]",
            "text/plain": [
              "<matplotlib.figure.Figure at 0x7f808c7c0da0>"
            ]
          },
          "metadata": {
            "tags": []
          }
        }
      ]
    },
    {
      "metadata": {
        "id": "OZ5TY7B_4E_v",
        "colab_type": "code",
        "colab": {
          "base_uri": "https://localhost:8080/",
          "height": 415
        },
        "outputId": "3e18fa4b-d3dc-4c4a-b99e-a882b4d1b1c4"
      },
      "cell_type": "code",
      "source": [
        "# Create the dataset\n",
        "X = np.linspace(-30.0, 300.0, 300)\n",
        "Y = 2 * np.linspace(-30.0, 250.0, 300) + np.random.randn(*X.shape)\n",
        "\n",
        "# Normalize the dataset\n",
        "X = X / np.max(X)\n",
        "Y = Y / np.max(Y)\n",
        "\n",
        "# Divide it into train and test\n",
        "train_X = X[:250]\n",
        "train_Y = Y[:250]\n",
        "\n",
        "test_X = X[250:]\n",
        "test_Y = Y[250:]\n",
        "\n",
        "def linear_regression(learning_rate, n_epochs, interval):  \n",
        "\n",
        "  #Creating the placeholders\n",
        "  x = tf.placeholder(tf.float32, name=\"x\")\n",
        "  y = tf.placeholder(tf.float32, name=\"y\")\n",
        "\n",
        "\n",
        "  W = tf.Variable(0.0, name='weight_1')\n",
        "  b = tf.Variable(0.0, name='bias_1')\n",
        "\n",
        "  pred_y = (W*x) + b\n",
        "\n",
        "  loss = tf.reduce_mean(tf.square(y - pred_y))\n",
        "\n",
        "  optimizer = tf.train.GradientDescentOptimizer(learning_rate=learning_rate).minimize(loss)\n",
        "\n",
        "  with tf.Session() as sess:\n",
        "\n",
        "    sess.run(tf.global_variables_initializer())\n",
        "\n",
        "    for epoch in range(n_epochs):\n",
        "      _, curr_loss = sess.run([optimizer, loss], feed_dict={x:train_X, y:train_Y})\n",
        "\n",
        "      if epoch % interval == 0:\n",
        "        print ('Loss after epoch', epoch, ' is ', curr_loss)\n",
        "\n",
        "    print ('Now testing the model in the test set')\n",
        "    final_preds, final_loss = sess.run([pred_y, loss], feed_dict={x:test_X, y:test_Y})\n",
        "\n",
        "    print ('The final loss is: ', final_loss)\n",
        "\n",
        "    plt.plot(test_X[:10], test_Y[:10], 'g', label='True Function')\n",
        "    plt.plot(test_X[:10], final_preds[:10], 'r', label='Predicted Function')\n",
        "    plt.legend()\n",
        "    plt.show()\n",
        "\n",
        "linear_regression(learning_rate=0.000005, n_epochs=100, interval=50)"
      ],
      "execution_count": 35,
      "outputs": [
        {
          "output_type": "stream",
          "text": [
            "Loss after epoch 0  is  0.19328372\n",
            "Loss after epoch 50  is  0.19312535\n",
            "Now testing the model in the test set\n",
            "The final loss is:  0.8272092\n"
          ],
          "name": "stdout"
        },
        {
          "output_type": "display_data",
          "data": {
            "image/png": "[encoded data removed]",
            "text/plain": [
              "<matplotlib.figure.Figure at 0x7f808c641b00>"
            ]
          },
          "metadata": {
            "tags": []
          }
        }
      ]
    },
    {
      "metadata": {
        "id": "A6MaclhK4rc6",
        "colab_type": "code",
        "colab": {
          "base_uri": "https://localhost:8080/",
          "height": 551
        },
        "outputId": "62cb4bee-8b9e-45d4-9766-38e00fc567f3"
      },
      "cell_type": "code",
      "source": [
        "# Okay! Now let's tweak!\n",
        "linear_regression(learning_rate=0.000034, n_epochs=500,interval=50)"
      ],
      "execution_count": 36,
      "outputs": [
        {
          "output_type": "stream",
          "text": [
            "Loss after epoch 0  is  0.19328372\n",
            "Loss after epoch 50  is  0.19221024\n",
            "Loss after epoch 100  is  0.19114485\n",
            "Loss after epoch 150  is  0.19008753\n",
            "Loss after epoch 200  is  0.18903813\n",
            "Loss after epoch 250  is  0.18799664\n",
            "Loss after epoch 300  is  0.186963\n",
            "Loss after epoch 350  is  0.18593717\n",
            "Loss after epoch 400  is  0.18491903\n",
            "Loss after epoch 450  is  0.18390858\n",
            "Now testing the model in the test set\n",
            "The final loss is:  0.79660094\n"
          ],
          "name": "stdout"
        },
        {
          "output_type": "display_data",
          "data": {
            "image/png": "[encoded data removed]",
            "text/plain": [
              "<matplotlib.figure.Figure at 0x7f808c5a6208>"
            ]
          },
          "metadata": {
            "tags": []
          }
        }
      ]
    },
    {
      "metadata": {
        "id": "peoHmV2M40uU",
        "colab_type": "code",
        "colab": {
          "base_uri": "https://localhost:8080/",
          "height": 721
        },
        "outputId": "79a2f079-21e2-457f-968d-a58a89cd4bab"
      },
      "cell_type": "code",
      "source": [
        "linear_regression(learning_rate=0.0000006, n_epochs=1000,interval=50)"
      ],
      "execution_count": 37,
      "outputs": [
        {
          "output_type": "stream",
          "text": [
            "Loss after epoch 0  is  0.19328372\n",
            "Loss after epoch 50  is  0.1932647\n",
            "Loss after epoch 100  is  0.19324566\n",
            "Loss after epoch 150  is  0.19322668\n",
            "Loss after epoch 200  is  0.19320767\n",
            "Loss after epoch 250  is  0.19318868\n",
            "Loss after epoch 300  is  0.19316967\n",
            "Loss after epoch 350  is  0.19315067\n",
            "Loss after epoch 400  is  0.19313169\n",
            "Loss after epoch 450  is  0.19311269\n",
            "Loss after epoch 500  is  0.19309369\n",
            "Loss after epoch 550  is  0.19307469\n",
            "Loss after epoch 600  is  0.1930557\n",
            "Loss after epoch 650  is  0.19303675\n",
            "Loss after epoch 700  is  0.19301777\n",
            "Loss after epoch 750  is  0.19299877\n",
            "Loss after epoch 800  is  0.19297981\n",
            "Loss after epoch 850  is  0.19296083\n",
            "Loss after epoch 900  is  0.19294186\n",
            "Loss after epoch 950  is  0.19292288\n",
            "Now testing the model in the test set\n",
            "The final loss is:  0.82701856\n"
          ],
          "name": "stdout"
        },
        {
          "output_type": "display_data",
          "data": {
            "image/png": "[encoded data removed]",
            "text/plain": [
              "<matplotlib.figure.Figure at 0x7f808c4acc88>"
            ]
          },
          "metadata": {
            "tags": []
          }
        }
      ]
    }
  ]
}