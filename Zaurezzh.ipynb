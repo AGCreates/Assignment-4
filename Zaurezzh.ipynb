{
  "nbformat": 4,
  "nbformat_minor": 0,
  "metadata": {
    "colab": {
      "name": "First_Date_with_TensorFlow.ipynb",
      "version": "0.3.2",
      "provenance": []
    },
    "kernelspec": {
      "name": "python3",
      "display_name": "Python 3"
    }
  },
  "cells": [
    {
      "metadata": {
        "id": "2XXfXed5YLbe",
        "colab_type": "text"
      },
      "cell_type": "markdown",
      "source": [
        "# First Date with TensorFlow\n",
        "\n",
        "Hi all,<br/>\n",
        "\n",
        "You know what's important for understanding Deep Learning / Machine Learning?<br/>\n",
        "Intuition. Period.\n",
        "\n",
        "And Intuition comes when you run the code multiple times.\n",
        "\n",
        "So, today I can write a couple of defination and say this is this, this is that.<br/>\n",
        "You Google half of the things up. You find answers which you need to Google further.<br/>\n",
        "In the process, you probably won't even remember what's the first thing you started out with!\n",
        "\n",
        "So?\n",
        "\n",
        "Hence on, I will execute cells with code. <br/>\n",
        "The neurons in your brain will optimize a function to get a hold of what each function is doing.<br/>\n",
        "**No Theory Just Code.**\n",
        "\n",
        "I will at max give a defination that extends for a line. That's it.<br/>\n",
        "Let's get started!\n",
        "\n",
        "<hr/>\n",
        "\n",
        "**RECOMMENDED!**<br/>\n",
        "Write the code in the cells using the signals sent by your brain to your fingers!<br/>\n",
        "Don't just `shift+enter` the cells.\n",
        "\n",
        "[Source](https://github.com/iArunava/TensorFlow-NoteBooks)"
      ]
    },
    {
      "metadata": {
        "id": "gYWUpE-bYKWP",
        "colab_type": "code",
        "colab": {}
      },
      "cell_type": "code",
      "source": [
        "# Essential imports\n",
        "import numpy as np\n",
        "import tensorflow as tf\n",
        "import matplotlib.pyplot as plt"
      ],
      "execution_count": 0,
      "outputs": []
    },
    {
      "metadata": {
        "id": "eKpz5NCIYMdi",
        "colab_type": "code",
        "colab": {}
      },
      "cell_type": "code",
      "source": [
        "# Let's define some tensors\n",
        "t1 = tf.constant(2.0, dtype=tf.float32)\n",
        "t2 = tf.constant([1.0, 2.0], dtype=tf.float32)\n",
        "t3 = tf.constant([[[1.0, 9.0], [2.0, 3.0], [4.0, 5.0]], \n",
        "                  [[1.0, 9.0], [2.0, 3.0], [4.0, 5.0]]])"
      ],
      "execution_count": 0,
      "outputs": []
    },
    {
      "metadata": {
        "id": "vmMcjzTxbWzw",
        "colab_type": "code",
        "colab": {
          "base_uri": "https://localhost:8080/",
          "height": 68
        },
        "outputId": "b72c4766-4728-48f2-9f13-c0ba0c92a08a"
      },
      "cell_type": "code",
      "source": [
        "# Let's print them out!\n",
        "print (t1)\n",
        "print (t2)\n",
        "print (t3)"
      ],
      "execution_count": 3,
      "outputs": [
        {
          "output_type": "stream",
          "text": [
            "Tensor(\"Const:0\", shape=(), dtype=float32)\n",
            "Tensor(\"Const_1:0\", shape=(2,), dtype=float32)\n",
            "Tensor(\"Const_2:0\", shape=(2, 3, 2), dtype=float32)\n"
          ],
          "name": "stdout"
        }
      ]
    },
    {
      "metadata": {
        "id": "10ahnfjYbcop",
        "colab_type": "text"
      },
      "cell_type": "markdown",
      "source": [
        "Where's Waldo?<br/>\n",
        "I mean, the value?<br/>\n",
        "\n",
        "So, the thing is you can't print the value of tensors directly.<br/>\n",
        "You have to use `session`, so let's do that!"
      ]
    },
    {
      "metadata": {
        "id": "ol6O5I7Tb2nb",
        "colab_type": "code",
        "colab": {
          "base_uri": "https://localhost:8080/",
          "height": 204
        },
        "outputId": "5c708375-d161-49fc-8b41-8e0baa39346b"
      },
      "cell_type": "code",
      "source": [
        "sess = tf.Session()\n",
        "print (sess.run(t1))\n",
        "print (\"=======================\")\n",
        "print (sess.run(t2))\n",
        "print (\"=======================\")\n",
        "print (sess.run(t3))\n",
        "sess.close()"
      ],
      "execution_count": 4,
      "outputs": [
        {
          "output_type": "stream",
          "text": [
            "2.0\n",
            "=======================\n",
            "[1. 2.]\n",
            "=======================\n",
            "[[[1. 9.]\n",
            "  [2. 3.]\n",
            "  [4. 5.]]\n",
            "\n",
            " [[1. 9.]\n",
            "  [2. 3.]\n",
            "  [4. 5.]]]\n"
          ],
          "name": "stdout"
        }
      ]
    },
    {
      "metadata": {
        "id": "rXKfVs_zb-kU",
        "colab_type": "text"
      },
      "cell_type": "markdown",
      "source": [
        "Aaahaa!! Just printed those tensors!!!<br/>\n",
        "Feels good! <br/>\n",
        "\n",
        "For some of you, who are like, dude you got \"No Theory Just Code\" in bold <br/>\n",
        "And you are still using the markdown cells for the theory ?!\n",
        "\n",
        "I am just gonna say I am a unreasonable man.<br/>\n",
        "\n",
        "\n",
        "So, you are programming with tf.<br/>\n",
        "What ever you do is broken down to 2 basic steps:\n",
        "- Building the computational Graph!\n",
        "- Execute that graph using `session`!\n",
        "\n",
        "That's all!\n",
        "\n",
        "<hr/>\n",
        "\n",
        "Let's compare this 2 steps with what we did above!<br/>\n",
        "So, I defined 3 `tensor`s and these 3 `tensor`s formed my computational Graph.<br/>\n",
        "And then I executed each tensor in this graph using a `session`.\n",
        "\n",
        "That simple!\n",
        "\n",
        "<hr/>\n",
        "\n",
        "Now, let's define a few more computational graphs and execute them with sessions.\n",
        "\n",
        "Okay, to start with let's build this computational graph!\n",
        "\n",
        "![Comp Graph 1](https://raw.githubusercontent.com/iArunava/TensorFlow-NoteBooks/master/assets/comp_graph_1.jpg)"
      ]
    },
    {
      "metadata": {
        "id": "FyVz0GNqgreZ",
        "colab_type": "code",
        "colab": {
          "base_uri": "https://localhost:8080/",
          "height": 51
        },
        "outputId": "076e885e-e0f4-4474-e7bb-66a6c434a90d"
      },
      "cell_type": "code",
      "source": [
        "# Let's define the graph\n",
        "comp_graph_1 = tf.multiply(tf.add(78, 19), 79)\n",
        "\n",
        "# Alternatively\n",
        "comp_graph_1_alt = (tf.constant(78) + tf.constant(19)) * tf.constant(79)\n",
        "\n",
        "# Let's execute using session\n",
        "sess = tf.Session()\n",
        "print ('Comp Graph 1    : ', sess.run(comp_graph_1))\n",
        "print ('Comp Graph 1 Alt: ', sess.run(comp_graph_1_alt))\n",
        "sess.close()"
      ],
      "execution_count": 6,
      "outputs": [
        {
          "output_type": "stream",
          "text": [
            "Comp Graph 1    :  7663\n",
            "Comp Graph 1 Alt:  7663\n"
          ],
          "name": "stdout"
        }
      ]
    },
    {
      "metadata": {
        "id": "SVMMtuFYhaQB",
        "colab_type": "text"
      },
      "cell_type": "markdown",
      "source": [
        "Let's define a sligtly more involved graph!\n",
        "\n",
        "![alt text](https://raw.githubusercontent.com/iArunava/TensorFlow-NoteBooks/master/assets/comp_graph_2.jpg)"
      ]
    },
    {
      "metadata": {
        "id": "4856BTvRhiBb",
        "colab_type": "code",
        "colab": {
          "base_uri": "https://localhost:8080/",
          "height": 68
        },
        "outputId": "b2ccc03a-2d93-4380-cf26-48d565ad9a02"
      },
      "cell_type": "code",
      "source": [
        "# Let build the graph\n",
        "# We need to cast cause the tensors operated on should be of the same type\n",
        "comp_graph_part_1 = tf.cast(tf.subtract(tf.add(7, 8), tf.add(9, 10)), \n",
        "                            dtype=tf.float32)\n",
        "comp_graph_part_2 = tf.divide(tf.cast(tf.multiply(7, 10), dtype=tf.float32), tf.constant(19.5))\n",
        "comp_graph_complete = tf.maximum(comp_graph_part_1, comp_graph_part_2)\n",
        "\n",
        "# Let's execute\n",
        "sess = tf.Session()\n",
        "part1_res, part2_res, total_res = sess.run([comp_graph_part_1, comp_graph_part_2, comp_graph_complete])\n",
        "print ('Complete Result: ', total_res)\n",
        "print ('Part 1 Result: ', part1_res)\n",
        "print ('Part 2 Result: ', part2_res)\n",
        "sess.close()"
      ],
      "execution_count": 7,
      "outputs": [
        {
          "output_type": "stream",
          "text": [
            "Complete Result:  3.5897436\n",
            "Part 1 Result:  -4.0\n",
            "Part 2 Result:  3.5897436\n"
          ],
          "name": "stdout"
        }
      ]
    },
    {
      "metadata": {
        "id": "B-_ZDtEbj4N0",
        "colab_type": "text"
      },
      "cell_type": "markdown",
      "source": [
        "Cool! Let's go! Build another graph and execute it with sessions.<br/>\n",
        "\n",
        "But this time, it's all you!\n",
        "\n",
        "Build this graph and execute it with `session`!\n",
        "\n",
        "![alt text](https://raw.githubusercontent.com/iArunava/TensorFlow-NoteBooks/master/assets/comp_graph_3.jpg)\n",
        "\n",
        "_Remember that `tensors` operated on should be of the same type!_<br/>\n",
        "_Search up errors and other help you need on Google_"
      ]
    },
    {
      "metadata": {
        "id": "-uHNe1BolJY0",
        "colab_type": "code",
        "colab": {
          "base_uri": "https://localhost:8080/",
          "height": 68
        },
        "outputId": "a8c31485-b43b-4278-d2a5-63c4ebfdcaed"
      },
      "cell_type": "code",
      "source": [
        "# Build the graph\n",
        "comp_graph_1 = tf.divide(tf.multiply(tf.cast(tf.constant([9,10]),dtype=tf.float32),[7,8.65]),5.6)\n",
        "comp_graph_2 = tf.cast(tf.add([7.65,9],[13.5,7.18]),dtype=tf.float32)\n",
        "comp_graph_total = tf.minimum(comp_graph_1,comp_graph_2)\n",
        "\n",
        "# Execute \n",
        "sess = tf.Session()\n",
        "part1_res, part2_res, total_res = sess.run([comp_graph_1, comp_graph_2, comp_graph_total])\n",
        "print ('Complete Result: ', total_res)\n",
        "print ('Part 1 Result: ', part1_res)\n",
        "print ('Part 2 Result: ', part2_res)\n",
        "sess.close()"
      ],
      "execution_count": 8,
      "outputs": [
        {
          "output_type": "stream",
          "text": [
            "Complete Result:  [11.25     15.446429]\n",
            "Part 1 Result:  [11.25     15.446429]\n",
            "Part 2 Result:  [21.15 16.18]\n"
          ],
          "name": "stdout"
        }
      ]
    },
    {
      "metadata": {
        "id": "qmap38WelREN",
        "colab_type": "text"
      },
      "cell_type": "markdown",
      "source": [
        "Let's do another!<br/>\n",
        "It's fun! Isn't it?!\n",
        "\n",
        "Build and execute this one!\n",
        "\n",
        "![alt text](https://raw.githubusercontent.com/iArunava/TensorFlow-NoteBooks/master/assets/comp_graph_4.jpg)"
      ]
    },
    {
      "metadata": {
        "id": "0ZhYwAlLmEvB",
        "colab_type": "code",
        "colab": {
          "base_uri": "https://localhost:8080/",
          "height": 102
        },
        "outputId": "92ef7026-c3a8-4373-ecee-e5531d74bd67"
      },
      "cell_type": "code",
      "source": [
        "# Build the graph\n",
        "comp_graph_1 = tf.multiply(tf.cast(tf.reduce_mean(tf.constant([[1.2,3.4],[7.5,8.6]])),dtype=tf.float32),tf.cast(tf.constant([[7,9],[8,6]]),dtype=tf.float32))\n",
        "comp_graph_2 = tf.reduce_sum(tf.multiply(tf.constant([[2.79,3.81,5.6],[7.3,5.67,8.9]]),tf.transpose(tf.constant([[2.6,18.1],[7.86,9.81],[9.36,10.41]]))))\n",
        "comp_result = tf.add(comp_graph_1,comp_graph_2)\n",
        "\n",
        "# Execute \n",
        "sess = tf.Session()\n",
        "part1_res, part2_res, total_res = sess.run([comp_graph_1, comp_graph_2, comp_result])\n",
        "print ('Complete Result: ', total_res)\n",
        "print ('Part 1 Result: ', part1_res)\n",
        "print ('Part 2 Result: ', part2_res)\n",
        "sess.close()"
      ],
      "execution_count": 9,
      "outputs": [
        {
          "output_type": "stream",
          "text": [
            "Complete Result:  [[406.2433  416.5933 ]\n",
            " [411.41827 401.06827]]\n",
            "Part 1 Result:  [[36.225002 46.575   ]\n",
            " [41.4      31.050001]]\n",
            "Part 2 Result:  370.01828\n"
          ],
          "name": "stdout"
        }
      ]
    },
    {
      "metadata": {
        "id": "BnB0b6qCmGmg",
        "colab_type": "text"
      },
      "cell_type": "markdown",
      "source": [
        "And a final one, before we move on to the next part!\n",
        "\n",
        "![alt text](https://raw.githubusercontent.com/iArunava/TensorFlow-NoteBooks/master/assets/comp_graph_5.jpg)"
      ]
    },
    {
      "metadata": {
        "id": "GQWyCvsQmMcL",
        "colab_type": "code",
        "colab": {
          "base_uri": "https://localhost:8080/",
          "height": 170
        },
        "outputId": "48a1508d-2ae3-44b8-a815-4535fbe88d19"
      },
      "cell_type": "code",
      "source": [
        "# Build the graph\n",
        "comp_graph_1 = tf.divide(tf.add(tf.reduce_sum(tf.multiply(tf.constant([[7.36,8.91,10.41],[5.31,9.38,7.99]]),tf.transpose(tf.constant([[7.99,10.36],[5.36,7.98],[8.91,5.67]])))),7.0),19.6)\n",
        "comp_graph_2 = tf.cast(tf.constant([[1,5.6,6.1,8],[0,0,7.98,9],[0,0,7.6,9],[0,0,0,8.98]]),dtype=tf.float32)\n",
        "comp_result = tf.divide(comp_graph_1,comp_graph_2)\n",
        "\n",
        "# Execute \n",
        "sess = tf.Session()\n",
        "part1_res, part2_res, total_res = sess.run([comp_graph_1, comp_graph_2, comp_result])\n",
        "print ('Complete Result: ', total_res)\n",
        "print ('Part 1 Result: ', part1_res)\n",
        "print ('Part 2 Result: ', part2_res)\n",
        "sess.close()"
      ],
      "execution_count": 10,
      "outputs": [
        {
          "output_type": "stream",
          "text": [
            "Complete Result:  [[19.463488   3.475623   3.1907358  2.432936 ]\n",
            " [       inf        inf  2.4390335  2.1626098]\n",
            " [       inf        inf  2.5609853  2.1626098]\n",
            " [       inf        inf        inf  2.1674263]]\n",
            "Part 1 Result:  19.463488\n",
            "Part 2 Result:  [[1.   5.6  6.1  8.  ]\n",
            " [0.   0.   7.98 9.  ]\n",
            " [0.   0.   7.6  9.  ]\n",
            " [0.   0.   0.   8.98]]\n"
          ],
          "name": "stdout"
        }
      ]
    },
    {
      "metadata": {
        "id": "12NC7XTPsJw7",
        "colab_type": "text"
      },
      "cell_type": "markdown",
      "source": [
        "# Linear Regression\n",
        "\n",
        "Okay, now we will create a dummy dataset and perform linear regression on this dataset!\n",
        "\n",
        "\n",
        "To get you in the habit of looking up for the documentation, I am not providing what some of the following functions does, Google them up!"
      ]
    },
    {
      "metadata": {
        "id": "hW31RZkjtNwI",
        "colab_type": "code",
        "colab": {}
      },
      "cell_type": "code",
      "source": [
        "# Create the dataset\n",
        "X = np.linspace(-30.0, 300.0, 300)\n",
        "Y = 2 * np.linspace(-30.0, 250.0, 300) + np.random.randn(*X.shape)\n",
        "\n",
        "# Divide it into train and test\n",
        "train_X = X[:250]\n",
        "train_Y = Y[:250]\n",
        "\n",
        "test_X = X[250:]\n",
        "test_Y = Y[250:]"
      ],
      "execution_count": 0,
      "outputs": []
    },
    {
      "metadata": {
        "id": "LQKy6U33y4lt",
        "colab_type": "code",
        "colab": {}
      },
      "cell_type": "code",
      "source": [
        "# Let's define the hyperparameters\n",
        "learning_rate = 0.000005\n",
        "n_epochs = 1000\n",
        "interval = 50"
      ],
      "execution_count": 0,
      "outputs": []
    },
    {
      "metadata": {
        "id": "1h1-D8K1uT48",
        "colab_type": "code",
        "colab": {
          "base_uri": "https://localhost:8080/",
          "height": 347
        },
        "outputId": "6f935daa-11fa-42d6-ce67-fa9254114745"
      },
      "cell_type": "code",
      "source": [
        "# let's viz the first 10 datapoints of the dataset\n",
        "plt.plot(train_X[:10], train_Y[:10], 'g')\n",
        "plt.show()"
      ],
      "execution_count": 13,
      "outputs": [
        {
          "output_type": "display_data",
          "data": {
            "image/png": "[encoded data removed]",
            "text/plain": [
              "<matplotlib.figure.Figure at 0x7f2c2ba9ac18>"
            ]
          },
          "metadata": {
            "tags": []
          }
        }
      ]
    },
    {
      "metadata": {
        "id": "jrsUps0nu8vj",
        "colab_type": "text"
      },
      "cell_type": "markdown",
      "source": [
        "** Question **<br/>\n",
        "Why did I created a session to plot the graph?<br/>\n",
        "[Ans]- So that we can easily plot the graph with the help of tensorflow.\n"
      ]
    },
    {
      "metadata": {
        "id": "P3-iuxE4sjAf",
        "colab_type": "code",
        "colab": {}
      },
      "cell_type": "code",
      "source": [
        "# Let's define the placeholders\n",
        "\n",
        "# Placeholders?\n",
        "# The input to the model changes on iteration\n",
        "# So we cannot have a constant in the input as we did before\n",
        "# And thus we need placeholders which we can change on each \n",
        "# iteration of the training\n",
        "\n",
        "x = tf.placeholder(tf.float32, name='x')\n",
        "y = tf.placeholder(tf.float32, name='y')"
      ],
      "execution_count": 0,
      "outputs": []
    },
    {
      "metadata": {
        "id": "8hPRkaoxvRyV",
        "colab_type": "code",
        "colab": {}
      },
      "cell_type": "code",
      "source": [
        "# Let's define the linear regression model\n",
        "\n",
        "# tf.Variable?\n",
        "# We define the model parameters as tf.Variables\n",
        "# as they get updated throghout the training.\n",
        "# And variables denotes something which changes overtime.\n",
        "\n",
        "W = tf.Variable(0.0, name='weight_1')\n",
        "b = tf.Variable(0.0, name='bias_1')\n",
        "\n",
        "pred_y = (W*x) + b"
      ],
      "execution_count": 0,
      "outputs": []
    },
    {
      "metadata": {
        "id": "cSw1P8bkv96r",
        "colab_type": "code",
        "colab": {}
      },
      "cell_type": "code",
      "source": [
        "# Let's define the loss function\n",
        "# We are going to use the mean squared loss\n",
        "loss = tf.reduce_mean(tf.square(y - pred_y))"
      ],
      "execution_count": 0,
      "outputs": []
    },
    {
      "metadata": {
        "id": "5G4uQqjsygNj",
        "colab_type": "code",
        "colab": {}
      },
      "cell_type": "code",
      "source": [
        "# Let's define the optimizer\n",
        "# And specify the which value (i.e. loss) it has to minimize\n",
        "optimizer = tf.train.GradientDescentOptimizer(learning_rate=learning_rate).minimize(loss)"
      ],
      "execution_count": 0,
      "outputs": []
    },
    {
      "metadata": {
        "id": "ttI7ZT-ozAm1",
        "colab_type": "code",
        "colab": {
          "base_uri": "https://localhost:8080/",
          "height": 721
        },
        "outputId": "389ac736-b711-4cd8-d2e6-645925b22dc4"
      },
      "cell_type": "code",
      "source": [
        "# So the graph is now built\n",
        "# Now let's execute the graph using session\n",
        "# i.e. lets train the model\n",
        "\n",
        "# What it is to train a model?\n",
        "# To update the paramters in the graph (i.e. tf.Variables)\n",
        "# So that the loss is minimized\n",
        "\n",
        "# Okay let's start!\n",
        "with tf.Session() as sess:\n",
        "  # We need to initialize the variables in our graph\n",
        "  sess.run(tf.global_variables_initializer())\n",
        "  \n",
        "  for epoch in range(n_epochs):\n",
        "    _, curr_loss = sess.run([optimizer, loss], feed_dict={x:train_X, y:train_Y})\n",
        "    \n",
        "    if epoch % interval == 0:\n",
        "      print ('Loss after epoch', epoch, ' is ', curr_loss)\n",
        "    \n",
        "  print ('Now testing the model in the test set')\n",
        "  final_preds, final_loss = sess.run([pred_y, loss], feed_dict={x:test_X, y:test_Y})\n",
        "    \n",
        "  print ('The final loss is: ', final_loss)\n",
        "  \n",
        "  # Plotting the final predictions against the true predictions\n",
        "  plt.plot(test_X[:10], test_Y[:10], 'g', label='True Function')\n",
        "  plt.plot(test_X[:10], final_preds[:10], 'r', label='Predicted Function')\n",
        "  plt.legend()\n",
        "  plt.show()"
      ],
      "execution_count": 18,
      "outputs": [
        {
          "output_type": "stream",
          "text": [
            "Loss after epoch 0  is  48238.242\n",
            "Loss after epoch 50  is  30.428658\n",
            "Loss after epoch 100  is  30.41805\n",
            "Loss after epoch 150  is  30.407583\n",
            "Loss after epoch 200  is  30.397121\n",
            "Loss after epoch 250  is  30.38666\n",
            "Loss after epoch 300  is  30.3762\n",
            "Loss after epoch 350  is  30.365736\n",
            "Loss after epoch 400  is  30.355293\n",
            "Loss after epoch 450  is  30.344862\n",
            "Loss after epoch 500  is  30.334412\n",
            "Loss after epoch 550  is  30.323988\n",
            "Loss after epoch 600  is  30.313547\n",
            "Loss after epoch 650  is  30.303066\n",
            "Loss after epoch 700  is  30.292639\n",
            "Loss after epoch 750  is  30.28222\n",
            "Loss after epoch 800  is  30.271814\n",
            "Loss after epoch 850  is  30.261406\n",
            "Loss after epoch 900  is  30.25098\n",
            "Loss after epoch 950  is  30.240576\n",
            "Now testing the model in the test set\n",
            "The final loss is:  36.963615\n"
          ],
          "name": "stdout"
        },
        {
          "output_type": "display_data",
          "data": {
            "image/png": "[encoded data removed]",
            "text/plain": [
              "<matplotlib.figure.Figure at 0x7f2c2bafcdd8>"
            ]
          },
          "metadata": {
            "tags": []
          }
        }
      ]
    },
    {
      "metadata": {
        "id": "jgmH3wwt1src",
        "colab_type": "text"
      },
      "cell_type": "markdown",
      "source": [
        "Okay, so we are doing good!<br/>\n",
        "\n",
        "Now, let me just put everything here into one function so that you can tweak the hyperparameters easily!\n",
        "\n",
        "Or better, do it yourself!"
      ]
    },
    {
      "metadata": {
        "id": "OZ5TY7B_4E_v",
        "colab_type": "code",
        "colab": {}
      },
      "cell_type": "code",
      "source": [
        "def linear_regression(learning_rate=0.000005, n_epochs=100, interval=50):\n",
        "  x = tf.placeholder(tf.float32, name='x')\n",
        "  y = tf.placeholder(tf.float32, name='y')\n",
        "\n",
        "  W = tf.Variable(0.0, name='weight_1')\n",
        "  b = tf.Variable(0.0, name='bias_1')\n",
        "\n",
        "  pred_y = (W*x) + b\n",
        "\n",
        "  loss = tf.reduce_mean(tf.square(y - pred_y))\n",
        "\n",
        "  optimizer = tf.train.GradientDescentOptimizer(learning_rate=learning_rate).minimize(loss)\n",
        "\n",
        "  with tf.Session() as sess:\n",
        "    # We need to initialize the variables in our graph\n",
        "    sess.run(tf.global_variables_initializer())\n",
        "\n",
        "    for epoch in range(n_epochs):\n",
        "      _, curr_loss = sess.run([optimizer, loss], feed_dict={x:train_X, y:train_Y})\n",
        "\n",
        "      if epoch % interval == 0:\n",
        "        print ('Loss after epoch', epoch, ' is ', curr_loss)\n",
        "\n",
        "    print ('Now testing the model in the test set')\n",
        "    final_preds, final_loss = sess.run([pred_y, loss], feed_dict={x:test_X, y:test_Y})\n",
        "\n",
        "    print ('The final loss is: ', final_loss)\n",
        "\n",
        "    # Plotting the final predictions against the true predictions\n",
        "    plt.plot(test_X[:10], test_Y[:10], 'g', label='True Function')\n",
        "    plt.plot(test_X[:10], final_preds[:10], 'r', label='Predicted Function')\n",
        "    plt.legend()\n",
        "    plt.show()\n",
        "  pass"
      ],
      "execution_count": 0,
      "outputs": []
    },
    {
      "metadata": {
        "id": "A6MaclhK4rc6",
        "colab_type": "code",
        "colab": {
          "base_uri": "https://localhost:8080/",
          "height": 551
        },
        "outputId": "2d0051e0-1550-49e8-a73d-20cdbe20f48d"
      },
      "cell_type": "code",
      "source": [
        "# Okay! Now let's tweak!\n",
        "linear_regression(learning_rate=0.000034, n_epochs=500)"
      ],
      "execution_count": 21,
      "outputs": [
        {
          "output_type": "stream",
          "text": [
            "Loss after epoch 0  is  48238.242\n",
            "Loss after epoch 50  is  30.36783\n",
            "Loss after epoch 100  is  30.29683\n",
            "Loss after epoch 150  is  30.226007\n",
            "Loss after epoch 200  is  30.15535\n",
            "Loss after epoch 250  is  30.084888\n",
            "Loss after epoch 300  is  30.014553\n",
            "Loss after epoch 350  is  29.944422\n",
            "Loss after epoch 400  is  29.87443\n",
            "Loss after epoch 450  is  29.80462\n",
            "Now testing the model in the test set\n",
            "The final loss is:  36.368168\n"
          ],
          "name": "stdout"
        },
        {
          "output_type": "display_data",
          "data": {
            "image/png": "[encoded data removed]",
            "text/plain": [
              "<matplotlib.figure.Figure at 0x7f2c2602f898>"
            ]
          },
          "metadata": {
            "tags": []
          }
        }
      ]
    },
    {
      "metadata": {
        "id": "peoHmV2M40uU",
        "colab_type": "code",
        "colab": {
          "base_uri": "https://localhost:8080/",
          "height": 721
        },
        "outputId": "8495d38f-2693-4752-9e4b-d308f61d147f"
      },
      "cell_type": "code",
      "source": [
        "linear_regression(learning_rate=0.0000006, n_epochs=1000)"
      ],
      "execution_count": 22,
      "outputs": [
        {
          "output_type": "stream",
          "text": [
            "Loss after epoch 0  is  48238.242\n",
            "Loss after epoch 50  is  5539.5537\n",
            "Loss after epoch 100  is  660.00836\n",
            "Loss after epoch 150  is  102.38138\n",
            "Loss after epoch 200  is  38.65591\n",
            "Loss after epoch 250  is  31.372309\n",
            "Loss after epoch 300  is  30.538782\n",
            "Loss after epoch 350  is  30.442488\n",
            "Loss after epoch 400  is  30.430346\n",
            "Loss after epoch 450  is  30.427849\n",
            "Loss after epoch 500  is  30.426422\n",
            "Loss after epoch 550  is  30.425177\n",
            "Loss after epoch 600  is  30.423916\n",
            "Loss after epoch 650  is  30.422682\n",
            "Loss after epoch 700  is  30.421398\n",
            "Loss after epoch 750  is  30.42013\n",
            "Loss after epoch 800  is  30.418917\n",
            "Loss after epoch 850  is  30.417631\n",
            "Loss after epoch 900  is  30.416357\n",
            "Loss after epoch 950  is  30.41513\n",
            "Now testing the model in the test set\n",
            "The final loss is:  37.190178\n"
          ],
          "name": "stdout"
        },
        {
          "output_type": "display_data",
          "data": {
            "image/png": "[encoded data removed]",
            "text/plain": [
              "<matplotlib.figure.Figure at 0x7f2c289715f8>"
            ]
          },
          "metadata": {
            "tags": []
          }
        }
      ]
    },
    {
      "metadata": {
        "id": "KjY_KnlE5ClG",
        "colab_type": "text"
      },
      "cell_type": "markdown",
      "source": [
        "## Drive the loss to a minimum."
      ]
    },
    {
      "metadata": {
        "id": "JKiHjGN15HPX",
        "colab_type": "code",
        "colab": {
          "base_uri": "https://localhost:8080/",
          "height": 2081
        },
        "outputId": "630fcee5-3373-43e0-ed0a-88dc1fef87ac"
      },
      "cell_type": "code",
      "source": [
        "linear_regression(learning_rate=0.0000034,n_epochs=1020000, interval=10200)"
      ],
      "execution_count": 23,
      "outputs": [
        {
          "output_type": "stream",
          "text": [
            "Loss after epoch 0  is  48238.242\n",
            "Loss after epoch 10200  is  29.020622\n",
            "Loss after epoch 20400  is  27.670359\n",
            "Loss after epoch 30600  is  26.384977\n",
            "Loss after epoch 40800  is  25.16128\n",
            "Loss after epoch 51000  is  23.99635\n",
            "Loss after epoch 61200  is  22.887348\n",
            "Loss after epoch 71400  is  21.831524\n",
            "Loss after epoch 81600  is  20.826557\n",
            "Loss after epoch 91800  is  19.869915\n",
            "Loss after epoch 102000  is  18.95898\n",
            "Loss after epoch 112200  is  18.091408\n",
            "Loss after epoch 122400  is  17.26638\n",
            "Loss after epoch 132600  is  16.480898\n",
            "Loss after epoch 142800  is  15.732269\n",
            "Loss after epoch 153000  is  15.020682\n",
            "Loss after epoch 163200  is  14.34263\n",
            "Loss after epoch 173400  is  13.697361\n",
            "Loss after epoch 183600  is  13.082921\n",
            "Loss after epoch 193800  is  12.498267\n",
            "Loss after epoch 204000  is  11.940964\n",
            "Loss after epoch 214200  is  11.411576\n",
            "Loss after epoch 224400  is  10.906768\n",
            "Loss after epoch 234600  is  10.426094\n",
            "Loss after epoch 244800  is  9.966923\n",
            "Loss after epoch 255000  is  9.534253\n",
            "Loss after epoch 265200  is  9.118374\n",
            "Loss after epoch 275400  is  8.724674\n",
            "Loss after epoch 285600  is  8.34968\n",
            "Loss after epoch 295800  is  7.9904904\n",
            "Loss after epoch 306000  is  7.652297\n",
            "Loss after epoch 316200  is  7.3252587\n",
            "Loss after epoch 326400  is  7.020032\n",
            "Loss after epoch 336600  is  6.723163\n",
            "Loss after epoch 346800  is  6.447006\n",
            "Loss after epoch 357000  is  6.1775475\n",
            "Loss after epoch 367200  is  5.927681\n",
            "Loss after epoch 377400  is  5.683991\n",
            "Loss after epoch 387600  is  5.4568815\n",
            "Loss after epoch 397800  is  5.2370887\n",
            "Loss after epoch 408000  is  5.0297294\n",
            "Loss after epoch 418200  is  4.832097\n",
            "Loss after epoch 428400  is  4.641624\n",
            "Loss after epoch 438600  is  4.4645658\n",
            "Loss after epoch 448800  is  4.2918057\n",
            "Loss after epoch 459000  is  4.1302614\n",
            "Loss after epoch 469200  is  3.9760702\n",
            "Loss after epoch 479400  is  3.825643\n",
            "Loss after epoch 489600  is  3.688226\n",
            "Loss after epoch 499800  is  3.5545535\n",
            "Loss after epoch 510000  is  3.4246414\n",
            "Loss after epoch 520200  is  3.3064988\n",
            "Loss after epoch 530400  is  3.1911888\n",
            "Loss after epoch 540600  is  3.0787132\n",
            "Loss after epoch 550800  is  2.976813\n",
            "Loss after epoch 561000  is  2.8779361\n",
            "Loss after epoch 571200  is  2.7814844\n",
            "Loss after epoch 581400  is  2.6916437\n",
            "Loss after epoch 591600  is  2.6074631\n",
            "Loss after epoch 601800  is  2.5253165\n",
            "Loss after epoch 612000  is  2.445199\n",
            "Loss after epoch 622200  is  2.3730617\n",
            "Loss after epoch 632400  is  2.3036993\n",
            "Loss after epoch 642600  is  2.236013\n",
            "Loss after epoch 652800  is  2.1700091\n",
            "Loss after epoch 663000  is  2.1106567\n",
            "Loss after epoch 673200  is  2.0540812\n",
            "Loss after epoch 683400  is  1.9988607\n",
            "Loss after epoch 693600  is  1.9450058\n",
            "Loss after epoch 703800  is  1.8940531\n",
            "Loss after epoch 714000  is  1.8484913\n",
            "Loss after epoch 724200  is  1.8040066\n",
            "Loss after epoch 734400  is  1.7605904\n",
            "Loss after epoch 744600  is  1.7182528\n",
            "Loss after epoch 754800  is  1.6779549\n",
            "Loss after epoch 765000  is  1.6427042\n",
            "Loss after epoch 775200  is  1.6082842\n",
            "Loss after epoch 785400  is  1.5746844\n",
            "Loss after epoch 795600  is  1.5419008\n",
            "Loss after epoch 805800  is  1.5099432\n",
            "Loss after epoch 816000  is  1.4805005\n",
            "Loss after epoch 826200  is  1.4544274\n",
            "Loss after epoch 836400  is  1.4289649\n",
            "Loss after epoch 846600  is  1.4041001\n",
            "Loss after epoch 856800  is  1.3798425\n",
            "Loss after epoch 867000  is  1.3561867\n",
            "Loss after epoch 877200  is  1.3331445\n",
            "Loss after epoch 887400  is  1.3106959\n",
            "Loss after epoch 897600  is  1.2888546\n",
            "Loss after epoch 907800  is  1.2676173\n",
            "Loss after epoch 918000  is  1.2485247\n",
            "Loss after epoch 928200  is  1.2350733\n",
            "Loss after epoch 938400  is  1.2218937\n",
            "Loss after epoch 948600  is  1.2089806\n",
            "Loss after epoch 958800  is  1.1963387\n",
            "Loss after epoch 969000  is  1.1839621\n",
            "Loss after epoch 979200  is  1.1718576\n",
            "Loss after epoch 989400  is  1.1600189\n",
            "Loss after epoch 999600  is  1.1484499\n",
            "Loss after epoch 1009800  is  1.1371467\n",
            "Now testing the model in the test set\n",
            "The final loss is:  1.3392689\n"
          ],
          "name": "stdout"
        },
        {
          "output_type": "display_data",
          "data": {
            "image/png": "[encoded data removed]",
            "text/plain": [
              "<matplotlib.figure.Figure at 0x7f2c4d896f28>"
            ]
          },
          "metadata": {
            "tags": []
          }
        }
      ]
    },
    {
      "metadata": {
        "id": "W4fSPRYDmhA3",
        "colab_type": "code",
        "colab": {}
      },
      "cell_type": "code",
      "source": [
        ""
      ],
      "execution_count": 0,
      "outputs": []
    }
  ]
}