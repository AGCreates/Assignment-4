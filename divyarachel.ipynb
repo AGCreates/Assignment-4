{
  "nbformat": 4,
  "nbformat_minor": 0,
  "metadata": {
    "colab": {
      "name": "First_Date_with_TensorFlow.ipynb",
      "version": "0.3.2",
      "provenance": []
    },
    "kernelspec": {
      "name": "python3",
      "display_name": "Python 3"
    }
  },
  "cells": [
    {
      "metadata": {
        "id": "2XXfXed5YLbe",
        "colab_type": "text"
      },
      "cell_type": "markdown",
      "source": [
        "# First Date with TensorFlow\n",
        "\n",
        "Hi all,<br/>\n",
        "\n",
        "You know what's important for understanding Deep Learning / Machine Learning?<br/>\n",
        "Intuition. Period.\n",
        "\n",
        "And Intuition comes when you run the code multiple times.\n",
        "\n",
        "So, today I can write a couple of defination and say this is this, this is that.<br/>\n",
        "You Google half of the things up. You find answers which you need to Google further.<br/>\n",
        "In the process, you probably won't even remember what's the first thing you started out with!\n",
        "\n",
        "So?\n",
        "\n",
        "Hence on, I will execute cells with code. <br/>\n",
        "The neurons in your brain will optimize a function to get a hold of what each function is doing.<br/>\n",
        "**No Theory Just Code.**\n",
        "\n",
        "I will at max give a defination that extends for a line. That's it.<br/>\n",
        "Let's get started!\n",
        "\n",
        "<hr/>\n",
        "\n",
        "**RECOMMENDED!**<br/>\n",
        "Write the code in the cells using the signals sent by your brain to your fingers!<br/>\n",
        "Don't just `shift+enter` the cells.\n",
        "\n",
        "[Source](https://github.com/iArunava/TensorFlow-NoteBooks)"
      ]
    },
    {
      "metadata": {
        "id": "gYWUpE-bYKWP",
        "colab_type": "code",
        "colab": {}
      },
      "cell_type": "code",
      "source": [
        "# Essential imports\n",
        "import numpy as np\n",
        "import tensorflow as tf\n",
        "import matplotlib.pyplot as plt"
      ],
      "execution_count": 0,
      "outputs": []
    },
    {
      "metadata": {
        "id": "eKpz5NCIYMdi",
        "colab_type": "code",
        "colab": {}
      },
      "cell_type": "code",
      "source": [
        "# Let's define some tensors\n",
        "t1 = tf.constant(2.0, dtype=tf.float32)\n",
        "t2 = tf.constant([1.0, 2.0], dtype=tf.float32)\n",
        "t3 = tf.constant([[[1.0, 9.0], [2.0, 3.0], [4.0, 5.0]], \n",
        "                  [[1.0, 9.0], [2.0, 3.0], [4.0, 5.0]]])"
      ],
      "execution_count": 0,
      "outputs": []
    },
    {
      "metadata": {
        "id": "vmMcjzTxbWzw",
        "colab_type": "code",
        "colab": {
          "base_uri": "https://localhost:8080/",
          "height": 71
        },
        "outputId": "b9b6a7c9-16dc-4e3b-e3b3-eb6e2c6f67ec"
      },
      "cell_type": "code",
      "source": [
        "# Let's print them out!\n",
        "print (t1)\n",
        "print (t2)\n",
        "print (t3)"
      ],
      "execution_count": 4,
      "outputs": [
        {
          "output_type": "stream",
          "text": [
            "Tensor(\"Const:0\", shape=(), dtype=float32)\n",
            "Tensor(\"Const_1:0\", shape=(2,), dtype=float32)\n",
            "Tensor(\"Const_2:0\", shape=(2, 3, 2), dtype=float32)\n"
          ],
          "name": "stdout"
        }
      ]
    },
    {
      "metadata": {
        "id": "10ahnfjYbcop",
        "colab_type": "text"
      },
      "cell_type": "markdown",
      "source": [
        "Where's Waldo?<br/>\n",
        "I mean, the value?<br/>\n",
        "\n",
        "So, the thing is you can't print the value of tensors directly.<br/>\n",
        "You have to use `session`, so let's do that!"
      ]
    },
    {
      "metadata": {
        "id": "ol6O5I7Tb2nb",
        "colab_type": "code",
        "colab": {
          "base_uri": "https://localhost:8080/",
          "height": 215
        },
        "outputId": "80341970-fe68-4574-dd3e-4add1b3a7410"
      },
      "cell_type": "code",
      "source": [
        "sess = tf.Session()\n",
        "print (sess.run(t1))\n",
        "print (\"=======================\")\n",
        "print (sess.run(t2))\n",
        "print (\"=======================\")\n",
        "print (sess.run(t3))\n",
        "sess.close()"
      ],
      "execution_count": 5,
      "outputs": [
        {
          "output_type": "stream",
          "text": [
            "2.0\n",
            "=======================\n",
            "[1. 2.]\n",
            "=======================\n",
            "[[[1. 9.]\n",
            "  [2. 3.]\n",
            "  [4. 5.]]\n",
            "\n",
            " [[1. 9.]\n",
            "  [2. 3.]\n",
            "  [4. 5.]]]\n"
          ],
          "name": "stdout"
        }
      ]
    },
    {
      "metadata": {
        "id": "rXKfVs_zb-kU",
        "colab_type": "text"
      },
      "cell_type": "markdown",
      "source": [
        "Aaahaa!! Just printed those tensors!!!<br/>\n",
        "Feels good! <br/>\n",
        "\n",
        "For some of you, who are like, dude you got \"No Theory Just Code\" in bold <br/>\n",
        "And you are still using the markdown cells for the theory ?!\n",
        "\n",
        "I am just gonna say I am a unreasonable man.<br/>\n",
        "\n",
        "\n",
        "So, you are programming with tf.<br/>\n",
        "What ever you do is broken down to 2 basic steps:\n",
        "- Building the computational Graph!\n",
        "- Execute that graph using `session`!\n",
        "\n",
        "That's all!\n",
        "\n",
        "<hr/>\n",
        "\n",
        "Let's compare this 2 steps with what we did above!<br/>\n",
        "So, I defined 3 `tensor`s and these 3 `tensor`s formed my computational Graph.<br/>\n",
        "And then I executed each tensor in this graph using a `session`.\n",
        "\n",
        "That simple!\n",
        "\n",
        "<hr/>\n",
        "\n",
        "Now, let's define a few more computational graphs and execute them with sessions.\n",
        "\n",
        "Okay, to start with let's build this computational graph!\n",
        "\n",
        "![Comp Graph 1](https://raw.githubusercontent.com/iArunava/TensorFlow-NoteBooks/master/assets/comp_graph_1.jpg)"
      ]
    },
    {
      "metadata": {
        "id": "FyVz0GNqgreZ",
        "colab_type": "code",
        "colab": {
          "base_uri": "https://localhost:8080/",
          "height": 53
        },
        "outputId": "43b14247-c4bb-4e35-ec18-030b2bf9865c"
      },
      "cell_type": "code",
      "source": [
        "# Let's define the graph\n",
        "comp_graph_1 = tf.multiply(tf.add(78, 19), 79)\n",
        "\n",
        "# Alternatively\n",
        "comp_graph_1_alt = (tf.constant(78) + tf.constant(19)) * tf.constant(79)\n",
        "\n",
        "# Let's execute using session\n",
        "sess = tf.Session()\n",
        "print ('Comp Graph 1    : ', sess.run(comp_graph_1))\n",
        "print ('Comp Graph 1 Alt: ', sess.run(comp_graph_1_alt))\n",
        "sess.close()"
      ],
      "execution_count": 6,
      "outputs": [
        {
          "output_type": "stream",
          "text": [
            "Comp Graph 1    :  7663\n",
            "Comp Graph 1 Alt:  7663\n"
          ],
          "name": "stdout"
        }
      ]
    },
    {
      "metadata": {
        "id": "SVMMtuFYhaQB",
        "colab_type": "text"
      },
      "cell_type": "markdown",
      "source": [
        "Let's define a sligtly more involved graph!\n",
        "\n",
        "![alt text](https://raw.githubusercontent.com/iArunava/TensorFlow-NoteBooks/master/assets/comp_graph_2.jpg)"
      ]
    },
    {
      "metadata": {
        "id": "4856BTvRhiBb",
        "colab_type": "code",
        "colab": {
          "base_uri": "https://localhost:8080/",
          "height": 71
        },
        "outputId": "d8d09f75-79c2-4f3e-e688-1c9b092c14e8"
      },
      "cell_type": "code",
      "source": [
        "# Let build the graph\n",
        "# We need to cast cause the tensors operated on should be of the same type\n",
        "comp_graph_part_1 = tf.cast(tf.subtract(tf.add(7, 8), tf.add(9, 10)), \n",
        "                            dtype=tf.float32)\n",
        "comp_graph_part_2 = tf.divide(tf.cast(tf.multiply(7, 10), dtype=tf.float32), tf.constant(19.5))\n",
        "comp_graph_complete = tf.maximum(comp_graph_part_1, comp_graph_part_2)\n",
        "\n",
        "# Let's execute\n",
        "sess = tf.Session()\n",
        "part1_res, part2_res, total_res = sess.run([comp_graph_part_1, comp_graph_part_2, comp_graph_complete])\n",
        "print ('Complete Result: ', total_res)\n",
        "print ('Part 1 Result: ', part1_res)\n",
        "print ('Part 2 Result: ', part2_res)\n",
        "sess.close()"
      ],
      "execution_count": 10,
      "outputs": [
        {
          "output_type": "stream",
          "text": [
            "Complete Result:  3.5897436\n",
            "Part 1 Result:  -4.0\n",
            "Part 2 Result:  3.5897436\n"
          ],
          "name": "stdout"
        }
      ]
    },
    {
      "metadata": {
        "id": "B-_ZDtEbj4N0",
        "colab_type": "text"
      },
      "cell_type": "markdown",
      "source": [
        "Cool! Let's go! Build another graph and execute it with sessions.<br/>\n",
        "\n",
        "But this time, it's all you!\n",
        "\n",
        "Build this graph and execute it with `session`!\n",
        "\n",
        "![alt text](https://raw.githubusercontent.com/iArunava/TensorFlow-NoteBooks/master/assets/comp_graph_3.jpg)\n",
        "\n",
        "_Remember that `tensors` operated on should be of the same type!_<br/>\n",
        "_Search up errors and other help you need on Google_"
      ]
    },
    {
      "metadata": {
        "id": "-uHNe1BolJY0",
        "colab_type": "code",
        "colab": {
          "base_uri": "https://localhost:8080/",
          "height": 71
        },
        "outputId": "66b3c59f-19b5-4a50-db13-cf0df774143f"
      },
      "cell_type": "code",
      "source": [
        "# Build the graph\n",
        "cg_1 = tf.divide(tf.cast(tf.multiply([9.0,10.0], [7.0,8.65]), dtype=tf.float32), tf.constant(5.6))\n",
        "cg_2 = tf.cast(tf.add([7.65,9.0], [13.5,7.18]),dtype=tf.float32)\n",
        "cgc = tf.minimum(cg_1, cg_2)\n",
        "\n",
        "# Execute \n",
        "sess = tf.Session()\n",
        "p1_res, p2_res, total_res = sess.run([cg_1, cg_2, cgc])\n",
        "print ('Complete Result: ', total_res)\n",
        "print ('Part 1 Result: ', p1_res)\n",
        "print ('Part 2 Result: ', p2_res)\n",
        "sess.close()"
      ],
      "execution_count": 12,
      "outputs": [
        {
          "output_type": "stream",
          "text": [
            "Complete Result:  [11.25     15.446429]\n",
            "Part 1 Result:  [11.25     15.446429]\n",
            "Part 2 Result:  [21.15 16.18]\n"
          ],
          "name": "stdout"
        }
      ]
    },
    {
      "metadata": {
        "id": "qmap38WelREN",
        "colab_type": "text"
      },
      "cell_type": "markdown",
      "source": [
        "Let's do another!<br/>\n",
        "It's fun! Isn't it?!\n",
        "\n",
        "Build and execute this one!\n",
        "\n",
        "![alt text](https://raw.githubusercontent.com/iArunava/TensorFlow-NoteBooks/master/assets/comp_graph_4.jpg)"
      ]
    },
    {
      "metadata": {
        "id": "0ZhYwAlLmEvB",
        "colab_type": "code",
        "colab": {
          "base_uri": "https://localhost:8080/",
          "height": 125
        },
        "outputId": "642195e8-b572-408e-c2d6-d2e9984490de"
      },
      "cell_type": "code",
      "source": [
        "# Build the graph\n",
        "x=np.array([[1.2,3.4],[7.5,8.6]])\n",
        "y=np.array([[7.0,9.0],[8.0,6.0]])\n",
        "print(np.min(x,axis=1))\n",
        "trl_1=tf.cast(tf.multiply(np.min(x,axis=1),y),dtype=tf.float32)\n",
        "sess=tf.Session()\n",
        "z=np.array([[2.6,18.1],[7.86,9.81],[9.36,10.41]])\n",
        "z=np.transpose(z)\n",
        "w=np.array([[2.79,3.81,5.6],[7.3,5.67,8.9]])\n",
        "trl_2=tf.cast(np.sum(sess.run(tf.multiply(w,z))),dtype=tf.float32)\n",
        "final=tf.add(trl_1,trl_2)\n",
        "\n",
        "# Execute \n",
        "p1_res, p2_res, total_res = sess.run([trl_1, trl_2, final])\n",
        "print ('Complete Result: ', total_res)\n",
        "print ('Part 1 Result: ', p1_res)\n",
        "print ('Part 2 Result: ', p2_res)\n",
        "sess.close()"
      ],
      "execution_count": 13,
      "outputs": [
        {
          "output_type": "stream",
          "text": [
            "[1.2 7.5]\n",
            "Complete Result:  [[378.4183  437.5183 ]\n",
            " [379.61832 415.0183 ]]\n",
            "Part 1 Result:  [[ 8.4 67.5]\n",
            " [ 9.6 45. ]]\n",
            "Part 2 Result:  370.0183\n"
          ],
          "name": "stdout"
        }
      ]
    },
    {
      "metadata": {
        "id": "BnB0b6qCmGmg",
        "colab_type": "text"
      },
      "cell_type": "markdown",
      "source": [
        "And a final one, before we move on to the next part!\n",
        "\n",
        "![alt text](https://raw.githubusercontent.com/iArunava/TensorFlow-NoteBooks/master/assets/comp_graph_5.jpg)"
      ]
    },
    {
      "metadata": {
        "id": "GQWyCvsQmMcL",
        "colab_type": "code",
        "colab": {
          "base_uri": "https://localhost:8080/",
          "height": 71
        },
        "outputId": "3a4efa66-615b-41e8-f043-76a69f0e929c"
      },
      "cell_type": "code",
      "source": [
        "# Build the graph\n",
        "sess=tf.Session()\n",
        "x=np.array([[7.36,8.91,10.41],[5.31,9.38,7.99]])\n",
        "y=np.transpose(np.array([[7.99,10.36],[5.36,7.98],[8.91,5.67]]))\n",
        "trl_1=tf.cast(tf.divide(tf.add(7.0,np.sum(sess.run(tf.multiply(x,y)))),19.6),dtype=tf.float32)\n",
        "total=tf.divide(trl_1,tf.constant([[1,5.6,6.1,8],[0,0,7.98,9],[0,0,7.6,7],[0,0,0,8.98]],dtype=tf.float32))\n",
        "\n",
        "# Execute \n",
        "p1_res,total_res = sess.run([trl_1, final])\n",
        "print ('Complete Result: ', total_res)\n",
        "print ('Part 1 Result: ', p1_res)\n",
        "\n",
        "sess.close()"
      ],
      "execution_count": 14,
      "outputs": [
        {
          "output_type": "stream",
          "text": [
            "Complete Result:  [[378.4183  437.5183 ]\n",
            " [379.61832 415.0183 ]]\n",
            "Part 1 Result:  19.46349\n"
          ],
          "name": "stdout"
        }
      ]
    },
    {
      "metadata": {
        "id": "12NC7XTPsJw7",
        "colab_type": "text"
      },
      "cell_type": "markdown",
      "source": [
        "# Linear Regression\n",
        "\n",
        "Okay, now we will create a dummy dataset and perform linear regression on this dataset!\n",
        "\n",
        "\n",
        "To get you in the habit of looking up for the documentation, I am not providing what some of the following functions does, Google them up!"
      ]
    },
    {
      "metadata": {
        "id": "hW31RZkjtNwI",
        "colab_type": "code",
        "colab": {}
      },
      "cell_type": "code",
      "source": [
        "# Create the dataset\n",
        "X = np.linspace(-30.0, 300.0, 300)\n",
        "Y = 2 * np.linspace(-30.0, 250.0, 300) + np.random.randn(*X.shape)\n",
        "\n",
        "# Divide it into train and test\n",
        "train_X = X[:250]\n",
        "train_Y = Y[:250]\n",
        "\n",
        "test_X = X[250:]\n",
        "test_Y = Y[250:]"
      ],
      "execution_count": 0,
      "outputs": []
    },
    {
      "metadata": {
        "id": "LQKy6U33y4lt",
        "colab_type": "code",
        "colab": {}
      },
      "cell_type": "code",
      "source": [
        "# Let's define the hyperparameters\n",
        "learning_rate = 0.000005\n",
        "n_epochs = 1000\n",
        "interval = 50"
      ],
      "execution_count": 0,
      "outputs": []
    },
    {
      "metadata": {
        "id": "1h1-D8K1uT48",
        "colab_type": "code",
        "colab": {
          "base_uri": "https://localhost:8080/",
          "height": 347
        },
        "outputId": "272191e3-35ef-4371-d5d7-2924db5227c9"
      },
      "cell_type": "code",
      "source": [
        "# let's viz the first 10 datapoints of the dataset\n",
        "plt.plot(train_X[:10], train_Y[:10], 'g')\n",
        "plt.show()"
      ],
      "execution_count": 24,
      "outputs": [
        {
          "output_type": "display_data",
          "data": {
            "image/png": "[encoded data removed]",
            "text/plain": [
              "<matplotlib.figure.Figure at 0x7fc158d05198>"
            ]
          },
          "metadata": {
            "tags": []
          }
        }
      ]
    },
    {
      "metadata": {
        "id": "jrsUps0nu8vj",
        "colab_type": "text"
      },
      "cell_type": "markdown",
      "source": [
        "** Question **<br/>\n",
        "Why did I created a session to plot the graph?<br/>\n",
        "[Ans]"
      ]
    },
    {
      "metadata": {
        "id": "P3-iuxE4sjAf",
        "colab_type": "code",
        "colab": {}
      },
      "cell_type": "code",
      "source": [
        "# Let's define the placeholders\n",
        "\n",
        "# Placeholders?\n",
        "# The input to the model changes on iteration\n",
        "# So we cannot have a constant in the input as we did before\n",
        "# And thus we need placeholders which we can change on each \n",
        "# iteration of the training\n",
        "\n",
        "x = tf.placeholder(tf.float32, name='x')\n",
        "y = tf.placeholder(tf.float32, name='y')"
      ],
      "execution_count": 0,
      "outputs": []
    },
    {
      "metadata": {
        "id": "8hPRkaoxvRyV",
        "colab_type": "code",
        "colab": {}
      },
      "cell_type": "code",
      "source": [
        "# Let's define the linear regression model\n",
        "\n",
        "# tf.Variable?\n",
        "# We define the model parameters as tf.Variables\n",
        "# as they get updated throghout the training.\n",
        "# And variables denotes something which changes overtime.\n",
        "\n",
        "W = tf.Variable(0.0, name='weight_1')\n",
        "b = tf.Variable(0.0, name='bias_1')\n",
        "\n",
        "pred_y = (W*x) + b"
      ],
      "execution_count": 0,
      "outputs": []
    },
    {
      "metadata": {
        "id": "cSw1P8bkv96r",
        "colab_type": "code",
        "colab": {}
      },
      "cell_type": "code",
      "source": [
        "# Let's define the loss function\n",
        "# We are going to use the mean squared loss\n",
        "loss = tf.reduce_mean(tf.square(y - pred_y))"
      ],
      "execution_count": 0,
      "outputs": []
    },
    {
      "metadata": {
        "id": "5G4uQqjsygNj",
        "colab_type": "code",
        "colab": {}
      },
      "cell_type": "code",
      "source": [
        "# Let's define the optimizer\n",
        "# And specify the which value (i.e. loss) it has to minimize\n",
        "optimizer = tf.train.GradientDescentOptimizer(learning_rate=learning_rate).minimize(loss)"
      ],
      "execution_count": 0,
      "outputs": []
    },
    {
      "metadata": {
        "id": "ttI7ZT-ozAm1",
        "colab_type": "code",
        "colab": {
          "base_uri": "https://localhost:8080/",
          "height": 743
        },
        "outputId": "9a2493f5-e0dd-46a3-ef97-40033b28aea1"
      },
      "cell_type": "code",
      "source": [
        "# So the graph is now built\n",
        "# Now let's execute the graph using session\n",
        "# i.e. lets train the model\n",
        "\n",
        "# What it is to train a model?\n",
        "# To update the paramters in the graph (i.e. tf.Variables)\n",
        "# So that the loss is minimized\n",
        "\n",
        "# Okay let's start!\n",
        "with tf.Session() as sess:\n",
        "  # We need to initialize the variables in our graph\n",
        "  sess.run(tf.global_variables_initializer())\n",
        "  \n",
        "  for epoch in range(n_epochs):\n",
        "    _, curr_loss = sess.run([optimizer, loss], feed_dict={x:train_X, y:train_Y})\n",
        "    \n",
        "    if epoch % interval == 0:\n",
        "      print ('Loss after epoch', epoch, ' is ', curr_loss)\n",
        "    \n",
        "  print ('Now testing the model in the test set')\n",
        "  final_preds, final_loss = sess.run([pred_y, loss], feed_dict={x:test_X, y:test_Y})\n",
        "    \n",
        "  print ('The final loss is: ', final_loss)\n",
        "  \n",
        "  # Plotting the final predictions against the true predictions\n",
        "  plt.plot(test_X[:10], test_Y[:10], 'g', label='True Function')\n",
        "  plt.plot(test_X[:10], final_preds[:10], 'r', label='Predicted Function')\n",
        "  plt.legend()\n",
        "  plt.show()"
      ],
      "execution_count": 22,
      "outputs": [
        {
          "output_type": "stream",
          "text": [
            "Loss after epoch 0  is  48280.566\n",
            "Loss after epoch 50  is  30.894093\n",
            "Loss after epoch 100  is  30.883335\n",
            "Loss after epoch 150  is  30.872782\n",
            "Loss after epoch 200  is  30.862167\n",
            "Loss after epoch 250  is  30.851568\n",
            "Loss after epoch 300  is  30.84103\n",
            "Loss after epoch 350  is  30.830431\n",
            "Loss after epoch 400  is  30.81985\n",
            "Loss after epoch 450  is  30.809261\n",
            "Loss after epoch 500  is  30.798735\n",
            "Loss after epoch 550  is  30.78815\n",
            "Loss after epoch 600  is  30.777596\n",
            "Loss after epoch 650  is  30.767015\n",
            "Loss after epoch 700  is  30.756512\n",
            "Loss after epoch 750  is  30.745945\n",
            "Loss after epoch 800  is  30.735397\n",
            "Loss after epoch 850  is  30.724854\n",
            "Loss after epoch 900  is  30.714298\n",
            "Loss after epoch 950  is  30.703808\n",
            "Now testing the model in the test set\n",
            "The final loss is:  35.196793\n"
          ],
          "name": "stdout"
        },
        {
          "output_type": "display_data",
          "data": {
            "image/png": "[encoded data removed]",
            "text/plain": [
              "<matplotlib.figure.Figure at 0x7fc14491a390>"
            ]
          },
          "metadata": {
            "tags": []
          }
        }
      ]
    },
    {
      "metadata": {
        "id": "jgmH3wwt1src",
        "colab_type": "text"
      },
      "cell_type": "markdown",
      "source": [
        "Okay, so we are doing good!<br/>\n",
        "\n",
        "Now, let me just put everything here into one function so that you can tweak the hyperparameters easily!\n",
        "\n",
        "Or better, do it yourself!"
      ]
    },
    {
      "metadata": {
        "id": "OZ5TY7B_4E_v",
        "colab_type": "code",
        "colab": {
          "base_uri": "https://localhost:8080/",
          "height": 419
        },
        "outputId": "796b841c-ea06-40be-9ef9-bf013788efb0"
      },
      "cell_type": "code",
      "source": [
        "# Create the dataset\n",
        "X = np.linspace(-40.0, 400.0, 400)\n",
        "Y = 2 * np.linspace(-40.0, 250.0, 400) + np.random.randn(*X.shape)\n",
        "\n",
        "# Normalize the dataset\n",
        "X = X / np.max(X)\n",
        "Y = Y / np.max(Y)\n",
        "\n",
        "# Dividing into train and test\n",
        "train_X = X[:250]\n",
        "train_Y = Y[:250]\n",
        "\n",
        "test_X = X[250:]\n",
        "test_Y = Y[250:]\n",
        "def linear_regression(learning_rate=0.000005, n_epochs=100, interval=50):\n",
        "   #Creating the placeholders\n",
        "  x = tf.placeholder(tf.float32, name=\"x\")\n",
        "  y = tf.placeholder(tf.float32, name=\"y\")\n",
        "\n",
        "\n",
        "  W = tf.Variable(0.0, name='wt_1')\n",
        "  b = tf.Variable(0.0, name='bs_1')\n",
        "\n",
        "  pred_y = (W*x) + b\n",
        "\n",
        "  loss = tf.reduce_mean(tf.square(y - pred_y))\n",
        "\n",
        "  optimizer = tf.train.GradientDescentOptimizer(learning_rate=learning_rate).minimize(loss)\n",
        "\n",
        "  with tf.Session() as sess:\n",
        "\n",
        "    sess.run(tf.global_variables_initializer())\n",
        "\n",
        "    for epoch in range(n_epochs):\n",
        "      _, curr_loss = sess.run([optimizer, loss], feed_dict={x:train_X, y:train_Y})\n",
        "\n",
        "      if epoch % interval == 0:\n",
        "        print ('Loss after epoch', epoch, ' is ', curr_loss)\n",
        "\n",
        "    print ('Now testing the model in the test set')\n",
        "    final_preds, final_loss = sess.run([pred_y, loss], feed_dict={x:test_X, y:test_Y})\n",
        "\n",
        "    print ('The final loss is: ', final_loss)\n",
        "\n",
        "    plt.plot(test_X[:10], test_Y[:10], 'g', label='True Function')\n",
        "    plt.plot(test_X[:10], final_preds[:10], 'r', label='Predicted Function')\n",
        "    plt.legend()\n",
        "    plt.show()\n",
        "\n",
        "linear_regression(learning_rate=0.000005, n_epochs=100, interval=50)"
      ],
      "execution_count": 25,
      "outputs": [
        {
          "output_type": "stream",
          "text": [
            "Loss after epoch 0  is  0.08514742\n",
            "Loss after epoch 50  is  0.085098214\n",
            "Now testing the model in the test set\n",
            "The final loss is:  0.63134134\n"
          ],
          "name": "stdout"
        },
        {
          "output_type": "display_data",
          "data": {
            "image/png": "[encoded data removed]",
            "text/plain": [
              "<matplotlib.figure.Figure at 0x7fc1449413c8>"
            ]
          },
          "metadata": {
            "tags": []
          }
        }
      ]
    },
    {
      "metadata": {
        "id": "A6MaclhK4rc6",
        "colab_type": "code",
        "colab": {
          "base_uri": "https://localhost:8080/",
          "height": 563
        },
        "outputId": "89621244-237c-474f-af77-c90ede316830"
      },
      "cell_type": "code",
      "source": [
        "# Okay! Now let's tweak!\n",
        "linear_regression(learning_rate=0.000034, n_epochs=500,interval=50)"
      ],
      "execution_count": 26,
      "outputs": [
        {
          "output_type": "stream",
          "text": [
            "Loss after epoch 0  is  0.08514742\n",
            "Loss after epoch 50  is  0.08481379\n",
            "Loss after epoch 100  is  0.08448247\n",
            "Loss after epoch 150  is  0.08415346\n",
            "Loss after epoch 200  is  0.083826765\n",
            "Loss after epoch 250  is  0.08350234\n",
            "Loss after epoch 300  is  0.083180174\n",
            "Loss after epoch 350  is  0.08286026\n",
            "Loss after epoch 400  is  0.08254258\n",
            "Loss after epoch 450  is  0.0822271\n",
            "Now testing the model in the test set\n",
            "The final loss is:  0.61735106\n"
          ],
          "name": "stdout"
        },
        {
          "output_type": "display_data",
          "data": {
            "image/png": "[encoded data removed]",
            "text/plain": [
              "<matplotlib.figure.Figure at 0x7fc143feab00>"
            ]
          },
          "metadata": {
            "tags": []
          }
        }
      ]
    },
    {
      "metadata": {
        "id": "peoHmV2M40uU",
        "colab_type": "code",
        "colab": {
          "base_uri": "https://localhost:8080/",
          "height": 743
        },
        "outputId": "93111bdb-a518-4864-dcdb-c570538d144c"
      },
      "cell_type": "code",
      "source": [
        "linear_regression(learning_rate=0.0000006, n_epochs=1000,interval=50)"
      ],
      "execution_count": 27,
      "outputs": [
        {
          "output_type": "stream",
          "text": [
            "Loss after epoch 0  is  0.08514742\n",
            "Loss after epoch 50  is  0.08514151\n",
            "Loss after epoch 100  is  0.0851356\n",
            "Loss after epoch 150  is  0.0851297\n",
            "Loss after epoch 200  is  0.08512379\n",
            "Loss after epoch 250  is  0.08511789\n",
            "Loss after epoch 300  is  0.085111976\n",
            "Loss after epoch 350  is  0.085106075\n",
            "Loss after epoch 400  is  0.085100174\n",
            "Loss after epoch 450  is  0.08509427\n",
            "Loss after epoch 500  is  0.08508837\n",
            "Loss after epoch 550  is  0.08508247\n",
            "Loss after epoch 600  is  0.08507657\n",
            "Loss after epoch 650  is  0.08507068\n",
            "Loss after epoch 700  is  0.085064776\n",
            "Loss after epoch 750  is  0.085058875\n",
            "Loss after epoch 800  is  0.08505298\n",
            "Loss after epoch 850  is  0.08504708\n",
            "Loss after epoch 900  is  0.08504118\n",
            "Loss after epoch 950  is  0.085035294\n",
            "Now testing the model in the test set\n",
            "The final loss is:  0.6312547\n"
          ],
          "name": "stdout"
        },
        {
          "output_type": "display_data",
          "data": {
            "image/png": "[encoded data removed]",
            "text/plain": [
              "<matplotlib.figure.Figure at 0x7fc143eb07f0>"
            ]
          },
          "metadata": {
            "tags": []
          }
        }
      ]
    },
    {
      "metadata": {
        "id": "KjY_KnlE5ClG",
        "colab_type": "text"
      },
      "cell_type": "markdown",
      "source": [
        "## Drive the loss to a minimum."
      ]
    },
    {
      "metadata": {
        "id": "JKiHjGN15HPX",
        "colab_type": "code",
        "colab": {
          "base_uri": "https://localhost:8080/",
          "height": 581
        },
        "outputId": "d3901db9-e80b-42fb-a42f-3b481259650a"
      },
      "cell_type": "code",
      "source": [
        "# YOUR CODE HERE\n",
        "linear_regression(learning_rate=0.005, n_epochs=100001, interval=10000)"
      ],
      "execution_count": 28,
      "outputs": [
        {
          "output_type": "stream",
          "text": [
            "Loss after epoch 0  is  0.08514742\n",
            "Loss after epoch 10000  is  2.6902562e-05\n",
            "Loss after epoch 20000  is  3.7927848e-06\n",
            "Loss after epoch 30000  is  3.7796517e-06\n",
            "Loss after epoch 40000  is  3.7796517e-06\n",
            "Loss after epoch 50000  is  3.7796517e-06\n",
            "Loss after epoch 60000  is  3.7796517e-06\n",
            "Loss after epoch 70000  is  3.7796517e-06\n",
            "Loss after epoch 80000  is  3.7796517e-06\n",
            "Loss after epoch 90000  is  3.7796517e-06\n",
            "Loss after epoch 100000  is  3.7796517e-06\n",
            "Now testing the model in the test set\n",
            "The final loss is:  4.4196663e-06\n"
          ],
          "name": "stdout"
        },
        {
          "output_type": "display_data",
          "data": {
            "image/png": "[encoded data removed]",
            "text/plain": [
              "<matplotlib.figure.Figure at 0x7fc143e47198>"
            ]
          },
          "metadata": {
            "tags": []
          }
        }
      ]
    }
  ]
}