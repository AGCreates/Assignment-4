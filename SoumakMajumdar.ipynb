{
  "nbformat": 4,
  "nbformat_minor": 0,
  "metadata": {
    "colab": {
      "name": "First_Date_with_TensorFlow.ipynb",
      "version": "0.3.2",
      "provenance": []
    },
    "kernelspec": {
      "name": "python3",
      "display_name": "Python 3"
    }
  },
  "cells": [
    {
      "metadata": {
        "id": "2XXfXed5YLbe",
        "colab_type": "text"
      },
      "cell_type": "markdown",
      "source": [
        "# First Date with TensorFlow\n",
        "\n",
        "Hi all,<br/>\n",
        "\n",
        "You know what's important for understanding Deep Learning / Machine Learning?<br/>\n",
        "Intuition. Period.\n",
        "\n",
        "And Intuition comes when you run the code multiple times.\n",
        "\n",
        "So, today I can write a couple of defination and say this is this, this is that.<br/>\n",
        "You Google half of the things up. You find answers which you need to Google further.<br/>\n",
        "In the process, you probably won't even remember what's the first thing you started out with!\n",
        "\n",
        "So?\n",
        "\n",
        "Hence on, I will execute cells with code. <br/>\n",
        "The neurons in your brain will optimize a function to get a hold of what each function is doing.<br/>\n",
        "**No Theory Just Code.**\n",
        "\n",
        "I will at max give a defination that extends for a line. That's it.<br/>\n",
        "Let's get started!\n",
        "\n",
        "<hr/>\n",
        "\n",
        "**RECOMMENDED!**<br/>\n",
        "Write the code in the cells using the signals sent by your brain to your fingers!<br/>\n",
        "Don't just `shift+enter` the cells.\n",
        "\n",
        "[Source](https://github.com/iArunava/TensorFlow-NoteBooks)"
      ]
    },
    {
      "metadata": {
        "id": "gYWUpE-bYKWP",
        "colab_type": "code",
        "colab": {}
      },
      "cell_type": "code",
      "source": [
        "# Essential imports\n",
        "import numpy as np\n",
        "import tensorflow as tf\n",
        "import matplotlib.pyplot as plt"
      ],
      "execution_count": 0,
      "outputs": []
    },
    {
      "metadata": {
        "id": "eKpz5NCIYMdi",
        "colab_type": "code",
        "colab": {}
      },
      "cell_type": "code",
      "source": [
        "# Let's define some tensors\n",
        "t1 = tf.constant(2.0, dtype=tf.float32)\n",
        "t2 = tf.constant([1.0, 2.0], dtype=tf.float32)\n",
        "t3 = tf.constant([[[1.0, 9.0], [2.0, 3.0], [4.0, 5.0]], \n",
        "                  [[1.0, 9.0], [2.0, 3.0], [4.0, 5.0]]])"
      ],
      "execution_count": 0,
      "outputs": []
    },
    {
      "metadata": {
        "id": "vmMcjzTxbWzw",
        "colab_type": "code",
        "colab": {
          "base_uri": "https://localhost:8080/",
          "height": 68
        },
        "outputId": "94210d6c-5bae-43a1-db17-11dd5464f92b"
      },
      "cell_type": "code",
      "source": [
        "# Let's print them out!\n",
        "print (t1)\n",
        "print (t2)\n",
        "print (t3)"
      ],
      "execution_count": 3,
      "outputs": [
        {
          "output_type": "stream",
          "text": [
            "Tensor(\"Const:0\", shape=(), dtype=float32)\n",
            "Tensor(\"Const_1:0\", shape=(2,), dtype=float32)\n",
            "Tensor(\"Const_2:0\", shape=(2, 3, 2), dtype=float32)\n"
          ],
          "name": "stdout"
        }
      ]
    },
    {
      "metadata": {
        "id": "10ahnfjYbcop",
        "colab_type": "text"
      },
      "cell_type": "markdown",
      "source": [
        "Where's Waldo?<br/>\n",
        "I mean, the value?<br/>\n",
        "\n",
        "So, the thing is you can't print the value of tensors directly.<br/>\n",
        "You have to use `session`, so let's do that!"
      ]
    },
    {
      "metadata": {
        "id": "ol6O5I7Tb2nb",
        "colab_type": "code",
        "colab": {
          "base_uri": "https://localhost:8080/",
          "height": 204
        },
        "outputId": "008543be-9e62-4e04-e253-9bb4435dbf07"
      },
      "cell_type": "code",
      "source": [
        "sess = tf.Session()\n",
        "print (sess.run(t1))\n",
        "print (\"=======================\")\n",
        "print (sess.run(t2))\n",
        "print (\"=======================\")\n",
        "print (sess.run(t3))\n",
        "sess.close()"
      ],
      "execution_count": 4,
      "outputs": [
        {
          "output_type": "stream",
          "text": [
            "2.0\n",
            "=======================\n",
            "[1. 2.]\n",
            "=======================\n",
            "[[[1. 9.]\n",
            "  [2. 3.]\n",
            "  [4. 5.]]\n",
            "\n",
            " [[1. 9.]\n",
            "  [2. 3.]\n",
            "  [4. 5.]]]\n"
          ],
          "name": "stdout"
        }
      ]
    },
    {
      "metadata": {
        "id": "rXKfVs_zb-kU",
        "colab_type": "text"
      },
      "cell_type": "markdown",
      "source": [
        "Aaahaa!! Just printed those tensors!!!<br/>\n",
        "Feels good! <br/>\n",
        "\n",
        "For some of you, who are like, dude you got \"No Theory Just Code\" in bold <br/>\n",
        "And you are still using the markdown cells for the theory ?!\n",
        "\n",
        "I am just gonna say I am a unreasonable man.<br/>\n",
        "\n",
        "\n",
        "So, you are programming with tf.<br/>\n",
        "What ever you do is broken down to 2 basic steps:\n",
        "- Building the computational Graph!\n",
        "- Execute that graph using `session`!\n",
        "\n",
        "That's all!\n",
        "\n",
        "<hr/>\n",
        "\n",
        "Let's compare this 2 steps with what we did above!<br/>\n",
        "So, I defined 3 `tensor`s and these 3 `tensor`s formed my computational Graph.<br/>\n",
        "And then I executed each tensor in this graph using a `session`.\n",
        "\n",
        "That simple!\n",
        "\n",
        "<hr/>\n",
        "\n",
        "Now, let's define a few more computational graphs and execute them with sessions.\n",
        "\n",
        "Okay, to start with let's build this computational graph!\n",
        "\n",
        "![Comp Graph 1](https://raw.githubusercontent.com/iArunava/TensorFlow-NoteBooks/master/assets/comp_graph_1.jpg)"
      ]
    },
    {
      "metadata": {
        "id": "FyVz0GNqgreZ",
        "colab_type": "code",
        "colab": {
          "base_uri": "https://localhost:8080/",
          "height": 51
        },
        "outputId": "1d65ca03-574d-490f-ab73-6c19b9985f48"
      },
      "cell_type": "code",
      "source": [
        "# Let's define the graph\n",
        "comp_graph_1 = tf.multiply(tf.add(78, 19), 79)\n",
        "\n",
        "# Alternatively\n",
        "comp_graph_1_alt = (tf.constant(78) + tf.constant(19)) * tf.constant(79)\n",
        "\n",
        "# Let's execute using session\n",
        "sess = tf.Session()\n",
        "print ('Comp Graph 1    : ', sess.run(comp_graph_1))\n",
        "print ('Comp Graph 1 Alt: ', sess.run(comp_graph_1_alt))\n",
        "sess.close()"
      ],
      "execution_count": 5,
      "outputs": [
        {
          "output_type": "stream",
          "text": [
            "Comp Graph 1    :  7663\n",
            "Comp Graph 1 Alt:  7663\n"
          ],
          "name": "stdout"
        }
      ]
    },
    {
      "metadata": {
        "id": "SVMMtuFYhaQB",
        "colab_type": "text"
      },
      "cell_type": "markdown",
      "source": [
        "Let's define a sligtly more involved graph!\n",
        "\n",
        "![alt text](https://raw.githubusercontent.com/iArunava/TensorFlow-NoteBooks/master/assets/comp_graph_2.jpg)"
      ]
    },
    {
      "metadata": {
        "id": "4856BTvRhiBb",
        "colab_type": "code",
        "colab": {
          "base_uri": "https://localhost:8080/",
          "height": 68
        },
        "outputId": "412a2b9c-a044-4d52-e1a6-50b95dedf425"
      },
      "cell_type": "code",
      "source": [
        "# Let build the graph\n",
        "# We need to cast cause the tensors operated on should be of the same type\n",
        "comp_graph_part_1 = tf.cast(tf.subtract(tf.add(7, 8), tf.add(9, 10)), \n",
        "                            dtype=tf.float32)\n",
        "comp_graph_part_2 = tf.divide(tf.cast(tf.multiply(7, 10), dtype=tf.float32), tf.constant(19.5))\n",
        "comp_graph_complete = tf.maximum(comp_graph_part_1, comp_graph_part_2)\n",
        "\n",
        "# Let's execute\n",
        "sess = tf.Session()\n",
        "part1_res, part2_res, total_res = sess.run([comp_graph_part_1, comp_graph_part_2, comp_graph_complete])\n",
        "print ('Complete Result: ', total_res)\n",
        "print ('Part 1 Result: ', part1_res)\n",
        "print ('Part 2 Result: ', part2_res)\n",
        "sess.close()"
      ],
      "execution_count": 6,
      "outputs": [
        {
          "output_type": "stream",
          "text": [
            "Complete Result:  3.5897436\n",
            "Part 1 Result:  -4.0\n",
            "Part 2 Result:  3.5897436\n"
          ],
          "name": "stdout"
        }
      ]
    },
    {
      "metadata": {
        "id": "B-_ZDtEbj4N0",
        "colab_type": "text"
      },
      "cell_type": "markdown",
      "source": [
        "Cool! Let's go! Build another graph and execute it with sessions.<br/>\n",
        "\n",
        "But this time, it's all you!\n",
        "\n",
        "Build this graph and execute it with `session`!\n",
        "\n",
        "![alt text](https://raw.githubusercontent.com/iArunava/TensorFlow-NoteBooks/master/assets/comp_graph_3.jpg)\n",
        "\n",
        "_Remember that `tensors` operated on should be of the same type!_<br/>\n",
        "_Search up errors and other help you need on Google_"
      ]
    },
    {
      "metadata": {
        "id": "-uHNe1BolJY0",
        "colab_type": "code",
        "colab": {
          "base_uri": "https://localhost:8080/",
          "height": 119
        },
        "outputId": "893863e8-1d81-4497-db44-0f8bcb5e1f43"
      },
      "cell_type": "code",
      "source": [
        "# Build the graph\n",
        "# YOUR CODE HERE\n",
        "node_1 = tf.constant([9, 10], dtype=tf.float32, name='leaf_node1')\n",
        "node_2 = tf.constant([7, 8.65], dtype=tf.float32, name='leaf_node2')\n",
        "node_3 = tf.constant(5.6, dtype=tf.float32, name='leaf_node3')\n",
        "node_4 = tf.constant([7.65, 9], dtype=tf.float32, name='leaf_node4')\n",
        "node_5 = tf.constant([13.5, 7.18], dtype=tf.float32, name='leaf_node5')\n",
        "\n",
        "cg_part_1=(node_1 * node_2)\n",
        "\n",
        "cg_part_2=(node_4 + node_5)\n",
        "\n",
        "cg_part_3=tf.divide(cg_part_1, node_3)\n",
        "\n",
        "comp_graph_2 = tf.minimum(((node_1 * node_2) / node_3),\n",
        "                  (node_4 + node_5))\n",
        "\n",
        "comp_graph_2_alt=tf.minimum(cg_part_2, cg_part_3)\n",
        "# Execute \n",
        "# YOUR CODE HERE\n",
        "with tf.Session() as sess:\n",
        "    print(sess.run(comp_graph_2))\n",
        "    part1, part2, part3, total = sess.run([cg_part_1, cg_part_2, cg_part_3, comp_graph_2_alt])\n",
        "print (\"=======================\")\n",
        "print ('Part 1 Result: ', part1)\n",
        "print ('Part 2 Result: ', part2)\n",
        "print ('Part 3 Result: ', part3)\n",
        "print ('Final Result: ', total)"
      ],
      "execution_count": 9,
      "outputs": [
        {
          "output_type": "stream",
          "text": [
            "[11.25     15.446429]\n",
            "=======================\n",
            "Part 1 Result:  [63.  86.5]\n",
            "Part 2 Result:  [21.15 16.18]\n",
            "Part 3 Result:  [11.25     15.446429]\n",
            "Final Result:  [11.25     15.446429]\n"
          ],
          "name": "stdout"
        }
      ]
    },
    {
      "metadata": {
        "id": "qmap38WelREN",
        "colab_type": "text"
      },
      "cell_type": "markdown",
      "source": [
        "Let's do another!<br/>\n",
        "It's fun! Isn't it?!\n",
        "\n",
        "Build and execute this one!\n",
        "\n",
        "![alt text](https://raw.githubusercontent.com/iArunava/TensorFlow-NoteBooks/master/assets/comp_graph_4.jpg)"
      ]
    },
    {
      "metadata": {
        "id": "0ZhYwAlLmEvB",
        "colab_type": "code",
        "colab": {
          "base_uri": "https://localhost:8080/",
          "height": 238
        },
        "outputId": "fbf6b0fe-820d-40e1-9adf-4b4b0a14af35"
      },
      "cell_type": "code",
      "source": [
        "# Build the graph\n",
        "# YOUR CODE HERE\n",
        "node_6 = tf.constant([[1.2 , 3.4],\n",
        "                     [7.5 , 8.6]], dtype = tf.float32, name='leaf_node6')\n",
        "node_7 = tf.constant([[7 , 9],\n",
        "                     [8 , 6]] , dtype = tf.float32, name='leaf_node7')\n",
        "node_8 = tf.constant([[2.6 , 18.1],\n",
        "                     [7.86 , 9.81],\n",
        "                     [9.36 , 10.41]] , dtype = tf.float32, name='leaf_node8')\n",
        "node_9 = tf.constant([[2.79 , 3.81 , 5.6],\n",
        "                     [7.3 , 5.67 , 8.9]] , dtype = tf.float32, name='leaf_node9')\n",
        "\n",
        "cg_1 = tf.reduce_mean(node_6, axis = 1)\n",
        "cg_2 = tf.transpose(node_8)\n",
        "cg_3 = tf.multiply(node_7 , cg_1)\n",
        "cg_4 = tf.multiply(node_9 , cg_2)\n",
        "cg_5 = tf.reduce_sum(cg_4)\n",
        "cg_com = cg_3 + cg_5\n",
        "\n",
        "#cg_1alt = (node_7 * (np.mean(node_6, axis = 1)))\n",
        "#cg_1alt = (node_7 * (tf.reduce_mean(node_6, axis = 1)))\n",
        "#cg_2alt = np.sum((node_9 * tf.transpose(node_8)))\n",
        "#cg_2alt = tf.reduce_sum((node_9 * tf.transpose(node_8)))\n",
        "#cg_comalt = cg_1alt + cg_2alt\n",
        "\n",
        "# Execute \n",
        "# YOUR CODE HERE\n",
        "with tf.Session() as sess:\n",
        "    print(sess.run(cg_com))\n",
        "    part_1, part_2, part_3, part_4, part_5, final = sess.run(\n",
        "        [cg_1, cg_2, cg_3, cg_4, cg_5, cg_com])\n",
        "print (\"=======================\")\n",
        "print ('Part 1 Result: ', part_1)\n",
        "print ('Part 2 Result: ', part_2)\n",
        "print ('Part 3 Result: ', part_3)\n",
        "print ('Part 2 Result: ', part_4)\n",
        "print ('Part 3 Result: ', part_5)\n",
        "print ('Final Result: ', final)"
      ],
      "execution_count": 10,
      "outputs": [
        {
          "output_type": "stream",
          "text": [
            "[[386.1183  442.4683 ]\n",
            " [388.41827 418.3183 ]]\n",
            "=======================\n",
            "Part 1 Result:  [2.3000002 8.05     ]\n",
            "Part 2 Result:  [[ 2.6   7.86  9.36]\n",
            " [18.1   9.81 10.41]]\n",
            "Part 3 Result:  [[16.100002 72.450005]\n",
            " [18.400002 48.300003]]\n",
            "Part 2 Result:  [[  7.2539997  29.9466     52.415997 ]\n",
            " [132.13       55.622704   92.648994 ]]\n",
            "Part 3 Result:  370.01828\n",
            "Final Result:  [[386.1183  442.4683 ]\n",
            " [388.41827 418.3183 ]]\n"
          ],
          "name": "stdout"
        }
      ]
    },
    {
      "metadata": {
        "id": "BnB0b6qCmGmg",
        "colab_type": "text"
      },
      "cell_type": "markdown",
      "source": [
        "And a final one, before we move on to the next part!\n",
        "\n",
        "![alt text](https://raw.githubusercontent.com/iArunava/TensorFlow-NoteBooks/master/assets/comp_graph_5.jpg)"
      ]
    },
    {
      "metadata": {
        "id": "GQWyCvsQmMcL",
        "colab_type": "code",
        "colab": {
          "base_uri": "https://localhost:8080/",
          "height": 357
        },
        "outputId": "ea8c48b8-2a4f-47ed-9bc3-ea8760db046e"
      },
      "cell_type": "code",
      "source": [
        "# Build the graph\n",
        "# YOUR CODE HERE\n",
        "node_10 = tf.constant([[7.36 , 8.91 , 10.41],\n",
        "                       [5.31 , 9.38 , 7.99]] , dtype = tf.float32, name='leaf_node10')\n",
        "node_11 = tf.constant([[7.99 , 10.36],\n",
        "                       [5.36 , 7.98],\n",
        "                       [8.91 , 5.67]] , dtype = tf.float32, name='leaf_node11')\n",
        "node_12 = tf.constant([[1.0 , 5.6 , 6.1 , 8.0],\n",
        "                       [0 , 0 , 7.98 , 9.0],\n",
        "                       [0 , 0 , 7.6 , 7],\n",
        "                       [0 , 0 , 0 , 8.98]] , dtype = tf.float32, name='leaf_node12')\n",
        "\n",
        "c_graph1 = tf.transpose(node_11)\n",
        "c_graph2 = (node_10 * c_graph1)\n",
        "c_graph3 = tf.reduce_sum(c_graph2)\n",
        "c_graph4 = tf.add(c_graph3 , 7.0)\n",
        "c_graph5 = tf.divide(c_graph4 , 19.6)\n",
        "c_graph_final = tf.divide(c_graph5 , node_12)\n",
        "\n",
        "c_graph_alt = (((tf.reduce_sum(node_10 * tf.transpose(node_11))) + 7.0) / 19.6/node_12)\n",
        "\n",
        "# Execute \n",
        "# YOUR CODE HERE\n",
        "with tf.Session() as sess:\n",
        "    print(sess.run(c_graph_final))\n",
        "    pt_1, pt_2, pt_3, pt_4, pt_5, rslt = sess.run(\n",
        "        [c_graph1, c_graph2, c_graph3, c_graph4, c_graph5, c_graph_final])\n",
        "print (\"\\n\\n=======================\\n\\n\")\n",
        "print ('Part 1 Result: ', pt_1)\n",
        "print ('Part 2 Result: ', pt_2)\n",
        "print ('Part 3 Result: ', pt_3)\n",
        "print ('Part 2 Result: ', pt_4)\n",
        "print ('Part 3 Result: ', pt_5)\n",
        "print ('Final Result: ', rslt)"
      ],
      "execution_count": 12,
      "outputs": [
        {
          "output_type": "stream",
          "text": [
            "[[19.463488   3.475623   3.1907358  2.432936 ]\n",
            " [       inf        inf  2.4390335  2.1626098]\n",
            " [       inf        inf  2.5609853  2.7804983]\n",
            " [       inf        inf        inf  2.1674263]]\n",
            "\n",
            "\n",
            "=======================\n",
            "\n",
            "\n",
            "Part 1 Result:  [[ 7.99  5.36  8.91]\n",
            " [10.36  7.98  5.67]]\n",
            "Part 2 Result:  [[58.8064   47.7576   92.7531  ]\n",
            " [55.011597 74.8524   45.3033  ]]\n",
            "Part 3 Result:  374.48438\n",
            "Part 2 Result:  381.48438\n",
            "Part 3 Result:  19.463488\n",
            "Final Result:  [[19.463488   3.475623   3.1907358  2.432936 ]\n",
            " [       inf        inf  2.4390335  2.1626098]\n",
            " [       inf        inf  2.5609853  2.7804983]\n",
            " [       inf        inf        inf  2.1674263]]\n"
          ],
          "name": "stdout"
        }
      ]
    },
    {
      "metadata": {
        "id": "12NC7XTPsJw7",
        "colab_type": "text"
      },
      "cell_type": "markdown",
      "source": [
        "# Linear Regression\n",
        "\n",
        "Okay, now we will create a dummy dataset and perform linear regression on this dataset!\n",
        "\n",
        "\n",
        "To get you in the habit of looking up for the documentation, I am not providing what some of the following functions does, Google them up!"
      ]
    },
    {
      "metadata": {
        "id": "hW31RZkjtNwI",
        "colab_type": "code",
        "colab": {}
      },
      "cell_type": "code",
      "source": [
        "# Create the dataset\n",
        "X = np.linspace(-30.0, 300.0, 300)\n",
        "Y = 2 * np.linspace(-30.0, 250.0, 300) + np.random.randn(*X.shape)\n",
        "\n",
        "# Divide it into train and test\n",
        "train_X = X[:250]\n",
        "train_Y = Y[:250]\n",
        "\n",
        "test_X = X[250:]\n",
        "test_Y = Y[250:]"
      ],
      "execution_count": 0,
      "outputs": []
    },
    {
      "metadata": {
        "id": "LQKy6U33y4lt",
        "colab_type": "code",
        "colab": {}
      },
      "cell_type": "code",
      "source": [
        "# Let's define the hyperparameters\n",
        "learning_rate = 0.000005\n",
        "n_epochs = 1000\n",
        "interval = 50"
      ],
      "execution_count": 0,
      "outputs": []
    },
    {
      "metadata": {
        "id": "1h1-D8K1uT48",
        "colab_type": "code",
        "colab": {
          "base_uri": "https://localhost:8080/",
          "height": 347
        },
        "outputId": "24db3f40-4b39-4036-bd3f-973392e83f67"
      },
      "cell_type": "code",
      "source": [
        "# let's viz the first 10 datapoints of the dataset\n",
        "plt.plot(train_X[:10], train_Y[:10], 'g')\n",
        "plt.show()"
      ],
      "execution_count": 15,
      "outputs": [
        {
          "output_type": "display_data",
          "data": {
            "image/png": "[encoded data removed]",
            "text/plain": [
              "<matplotlib.figure.Figure at 0x7f1811c985c0>"
            ]
          },
          "metadata": {
            "tags": []
          }
        }
      ]
    },
    {
      "metadata": {
        "id": "jrsUps0nu8vj",
        "colab_type": "text"
      },
      "cell_type": "markdown",
      "source": [
        "** Question **<br/>\n",
        "Why did I created a session to plot the graph?<br/>\n",
        "[Ans]"
      ]
    },
    {
      "metadata": {
        "id": "P3-iuxE4sjAf",
        "colab_type": "code",
        "colab": {}
      },
      "cell_type": "code",
      "source": [
        "# Let's define the placeholders\n",
        "\n",
        "# Placeholders?\n",
        "# The input to the model changes on iteration\n",
        "# So we cannot have a constant in the input as we did before\n",
        "# And thus we need placeholders which we can change on each \n",
        "# iteration of the training\n",
        "\n",
        "x = tf.placeholder(tf.float32, name='x')\n",
        "y = tf.placeholder(tf.float32, name='y')"
      ],
      "execution_count": 0,
      "outputs": []
    },
    {
      "metadata": {
        "id": "8hPRkaoxvRyV",
        "colab_type": "code",
        "colab": {}
      },
      "cell_type": "code",
      "source": [
        "# Let's define the linear regression model\n",
        "\n",
        "# tf.Variable?\n",
        "# We define the model parameters as tf.Variables\n",
        "# as they get updated throghout the training.\n",
        "# And variables denotes something which changes overtime.\n",
        "\n",
        "W = tf.Variable(0.0, name='weight_1')\n",
        "b = tf.Variable(0.0, name='bias_1')\n",
        "\n",
        "pred_y = (W*x) + b"
      ],
      "execution_count": 0,
      "outputs": []
    },
    {
      "metadata": {
        "id": "cSw1P8bkv96r",
        "colab_type": "code",
        "colab": {}
      },
      "cell_type": "code",
      "source": [
        "# Let's define the loss function\n",
        "# We are going to use the mean squared loss\n",
        "loss = tf.reduce_mean(tf.square(y - pred_y))"
      ],
      "execution_count": 0,
      "outputs": []
    },
    {
      "metadata": {
        "id": "5G4uQqjsygNj",
        "colab_type": "code",
        "colab": {}
      },
      "cell_type": "code",
      "source": [
        "# Let's define the optimizer\n",
        "# And specify the which value (i.e. loss) it has to minimize\n",
        "optimizer = tf.train.GradientDescentOptimizer(learning_rate=learning_rate).minimize(loss)"
      ],
      "execution_count": 0,
      "outputs": []
    },
    {
      "metadata": {
        "id": "ttI7ZT-ozAm1",
        "colab_type": "code",
        "colab": {
          "base_uri": "https://localhost:8080/",
          "height": 721
        },
        "outputId": "2c3cd7de-d262-4c3e-ca99-e2489cf3dc66"
      },
      "cell_type": "code",
      "source": [
        "# So the graph is now built\n",
        "# Now let's execute the graph using session\n",
        "# i.e. lets train the model\n",
        "\n",
        "# What it is to train a model?\n",
        "# To update the paramters in the graph (i.e. tf.Variables)\n",
        "# So that the loss is minimized\n",
        "\n",
        "# Okay let's start!\n",
        "with tf.Session() as sess:\n",
        "  # We need to initialize the variables in our graph\n",
        "  sess.run(tf.global_variables_initializer())\n",
        "  \n",
        "  for epoch in range(n_epochs):\n",
        "    _, curr_loss = sess.run([optimizer, loss], feed_dict={x:train_X, y:train_Y})\n",
        "    \n",
        "    if epoch % interval == 0:\n",
        "      print ('Loss after epoch', epoch, ' is ', curr_loss)\n",
        "    \n",
        "  print ('Now testing the model in the test set')\n",
        "  final_preds, final_loss = sess.run([pred_y, loss], feed_dict={x:test_X, y:test_Y})\n",
        "    \n",
        "  print ('The final loss is: ', final_loss)\n",
        "  \n",
        "  # Plotting the final predictions against the true predictions\n",
        "  plt.plot(test_X[:10], test_Y[:10], 'g', label='True Function')\n",
        "  plt.plot(test_X[:10], final_preds[:10], 'r', label='Predicted Function')\n",
        "  plt.legend()\n",
        "  plt.show()"
      ],
      "execution_count": 20,
      "outputs": [
        {
          "output_type": "stream",
          "text": [
            "Loss after epoch 0  is  48263.62\n",
            "Loss after epoch 50  is  29.69884\n",
            "Loss after epoch 100  is  29.688484\n",
            "Loss after epoch 150  is  29.678322\n",
            "Loss after epoch 200  is  29.668118\n",
            "Loss after epoch 250  is  29.657913\n",
            "Loss after epoch 300  is  29.64777\n",
            "Loss after epoch 350  is  29.637562\n",
            "Loss after epoch 400  is  29.627378\n",
            "Loss after epoch 450  is  29.617188\n",
            "Loss after epoch 500  is  29.60705\n",
            "Loss after epoch 550  is  29.59686\n",
            "Loss after epoch 600  is  29.586706\n",
            "Loss after epoch 650  is  29.57653\n",
            "Loss after epoch 700  is  29.56641\n",
            "Loss after epoch 750  is  29.556236\n",
            "Loss after epoch 800  is  29.54608\n",
            "Loss after epoch 850  is  29.535938\n",
            "Loss after epoch 900  is  29.525778\n",
            "Loss after epoch 950  is  29.51564\n",
            "Now testing the model in the test set\n",
            "The final loss is:  35.449123\n"
          ],
          "name": "stdout"
        },
        {
          "output_type": "display_data",
          "data": {
            "image/png": "[encoded data removed]",
            "text/plain": [
              "<matplotlib.figure.Figure at 0x7f180f250e48>"
            ]
          },
          "metadata": {
            "tags": []
          }
        }
      ]
    },
    {
      "metadata": {
        "id": "jgmH3wwt1src",
        "colab_type": "text"
      },
      "cell_type": "markdown",
      "source": [
        "Okay, so we are doing good!<br/>\n",
        "\n",
        "Now, let me just put everything here into one function so that you can tweak the hyperparameters easily!\n",
        "\n",
        "Or better, do it yourself!"
      ]
    },
    {
      "metadata": {
        "id": "OZ5TY7B_4E_v",
        "colab_type": "code",
        "colab": {
          "base_uri": "https://localhost:8080/",
          "height": 415
        },
        "outputId": "d69a6ec9-2698-47ea-cc8c-4b261a694c52"
      },
      "cell_type": "code",
      "source": [
        "def linear_regression(learning_rate=0.000005, n_epochs=100, interval=50):\n",
        "  # YOUR CODE HERE\n",
        "  x = tf.placeholder(tf.float32 , name = 'x')\n",
        "  y = tf.placeholder(tf.float32 , name = 'y')\n",
        "  W = tf.Variable(0.0 , name = 'Weight_1')\n",
        "  b = tf.Variable(0.0 , name = 'bias_1')\n",
        "  pred_y = (W*x) + b\n",
        "  loss = tf.reduce_mean(tf.square(y - pred_y))\n",
        "  optimizer = tf.train.GradientDescentOptimizer(learning_rate=learning_rate).minimize(loss)\n",
        "  with tf.Session() as sess:\n",
        "    sess.run(tf.global_variables_initializer())\n",
        "    for epoch in range(n_epochs):\n",
        "      _, curr_loss = sess.run([optimizer, loss], feed_dict={x:train_X, y:train_Y})\n",
        "      if epoch % interval == 0:\n",
        "        print ('Loss after epoch', epoch, ' is ', curr_loss)\n",
        "    print ('Now testing the model in the test set')\n",
        "    final_preds, final_loss = sess.run([pred_y, loss], feed_dict={x:test_X, y:test_Y})\n",
        "    \n",
        "    print ('The final loss is: ', final_loss)\n",
        "    plt.plot(test_X[:10], test_Y[:10], 'g', label='True Function')\n",
        "    plt.plot(test_X[:10], final_preds[:10], 'r', label='Predicted Function')\n",
        "    plt.legend()\n",
        "    plt.show()\n",
        "pass\n",
        "linear_regression()"
      ],
      "execution_count": 26,
      "outputs": [
        {
          "output_type": "stream",
          "text": [
            "Loss after epoch 0  is  48263.62\n",
            "Loss after epoch 50  is  29.69884\n",
            "Now testing the model in the test set\n",
            "The final loss is:  35.667534\n"
          ],
          "name": "stdout"
        },
        {
          "output_type": "display_data",
          "data": {
            "image/png": "[encoded data removed]",
            "text/plain": [
              "<matplotlib.figure.Figure at 0x7f180e944c88>"
            ]
          },
          "metadata": {
            "tags": []
          }
        }
      ]
    },
    {
      "metadata": {
        "id": "A6MaclhK4rc6",
        "colab_type": "code",
        "colab": {
          "base_uri": "https://localhost:8080/",
          "height": 551
        },
        "outputId": "715ffe34-37c1-4ed8-c0d9-244f4868400f"
      },
      "cell_type": "code",
      "source": [
        "# Okay! Now let's tweak!\n",
        "linear_regression(learning_rate=0.000034, n_epochs=500)"
      ],
      "execution_count": 27,
      "outputs": [
        {
          "output_type": "stream",
          "text": [
            "Loss after epoch 0  is  48263.62\n",
            "Loss after epoch 50  is  29.639576\n",
            "Loss after epoch 100  is  29.570467\n",
            "Loss after epoch 150  is  29.501488\n",
            "Loss after epoch 200  is  29.432644\n",
            "Loss after epoch 250  is  29.364004\n",
            "Loss after epoch 300  is  29.295498\n",
            "Loss after epoch 350  is  29.227224\n",
            "Loss after epoch 400  is  29.15903\n",
            "Loss after epoch 450  is  29.091084\n",
            "Now testing the model in the test set\n",
            "The final loss is:  34.8741\n"
          ],
          "name": "stdout"
        },
        {
          "output_type": "display_data",
          "data": {
            "image/png": "[encoded data removed]",
            "text/plain": [
              "<matplotlib.figure.Figure at 0x7f180e9d2c18>"
            ]
          },
          "metadata": {
            "tags": []
          }
        }
      ]
    },
    {
      "metadata": {
        "id": "peoHmV2M40uU",
        "colab_type": "code",
        "colab": {
          "base_uri": "https://localhost:8080/",
          "height": 721
        },
        "outputId": "a3681820-3034-423e-d37c-9ea694c3d0e0"
      },
      "cell_type": "code",
      "source": [
        "linear_regression(learning_rate=0.0000006, n_epochs=1000)"
      ],
      "execution_count": 28,
      "outputs": [
        {
          "output_type": "stream",
          "text": [
            "Loss after epoch 0  is  48263.62\n",
            "Loss after epoch 50  is  5541.8086\n",
            "Loss after epoch 100  is  659.62177\n",
            "Loss after epoch 150  is  101.69121\n",
            "Loss after epoch 200  is  37.930294\n",
            "Loss after epoch 250  is  30.642933\n",
            "Loss after epoch 300  is  29.80899\n",
            "Loss after epoch 350  is  29.712614\n",
            "Loss after epoch 400  is  29.700521\n",
            "Loss after epoch 450  is  29.698034\n",
            "Loss after epoch 500  is  29.696709\n",
            "Loss after epoch 550  is  29.69545\n",
            "Loss after epoch 600  is  29.69422\n",
            "Loss after epoch 650  is  29.692982\n",
            "Loss after epoch 700  is  29.691788\n",
            "Loss after epoch 750  is  29.690544\n",
            "Loss after epoch 800  is  29.689318\n",
            "Loss after epoch 850  is  29.688076\n",
            "Loss after epoch 900  is  29.686897\n",
            "Loss after epoch 950  is  29.68566\n",
            "Now testing the model in the test set\n",
            "The final loss is:  35.668106\n"
          ],
          "name": "stdout"
        },
        {
          "output_type": "display_data",
          "data": {
            "image/png": "[encoded data removed]",
            "text/plain": [
              "<matplotlib.figure.Figure at 0x7f180ea2e6d8>"
            ]
          },
          "metadata": {
            "tags": []
          }
        }
      ]
    },
    {
      "metadata": {
        "id": "KjY_KnlE5ClG",
        "colab_type": "text"
      },
      "cell_type": "markdown",
      "source": [
        "## Drive the loss to a minimum."
      ]
    },
    {
      "metadata": {
        "id": "JKiHjGN15HPX",
        "colab_type": "code",
        "colab": {
          "base_uri": "https://localhost:8080/",
          "height": 1061
        },
        "outputId": "cc8f6c9a-ff2a-4987-959c-8dc443d0402e"
      },
      "cell_type": "code",
      "source": [
        "# YOUR CODE HERE\n",
        "linear_regression(learning_rate=0.0000556, n_epochs=200000, interval=5000)"
      ],
      "execution_count": 29,
      "outputs": [
        {
          "output_type": "stream",
          "text": [
            "Loss after epoch 0  is  48263.62\n",
            "Loss after epoch 5000  is  20.33143\n",
            "Loss after epoch 10000  is  14.011082\n",
            "Loss after epoch 15000  is  9.751231\n",
            "Loss after epoch 20000  is  6.8801155\n",
            "Loss after epoch 25000  is  4.9450493\n",
            "Loss after epoch 30000  is  3.6408193\n",
            "Loss after epoch 35000  is  2.761775\n",
            "Loss after epoch 40000  is  2.1693199\n",
            "Loss after epoch 45000  is  1.7700055\n",
            "Loss after epoch 50000  is  1.5008676\n",
            "Loss after epoch 55000  is  1.3194801\n",
            "Loss after epoch 60000  is  1.1972297\n",
            "Loss after epoch 65000  is  1.1148143\n",
            "Loss after epoch 70000  is  1.059259\n",
            "Loss after epoch 75000  is  1.0218574\n",
            "Loss after epoch 80000  is  0.99664813\n",
            "Loss after epoch 85000  is  0.9796495\n",
            "Loss after epoch 90000  is  0.96817034\n",
            "Loss after epoch 95000  is  0.9604554\n",
            "Loss after epoch 100000  is  0.955253\n",
            "Loss after epoch 105000  is  0.9517498\n",
            "Loss after epoch 110000  is  0.94937986\n",
            "Loss after epoch 115000  is  0.94779277\n",
            "Loss after epoch 120000  is  0.9467058\n",
            "Loss after epoch 125000  is  0.94597083\n",
            "Loss after epoch 130000  is  0.9455005\n",
            "Loss after epoch 135000  is  0.94516534\n",
            "Loss after epoch 140000  is  0.9449119\n",
            "Loss after epoch 145000  is  0.9448011\n",
            "Loss after epoch 150000  is  0.9447038\n",
            "Loss after epoch 155000  is  0.9446235\n",
            "Loss after epoch 160000  is  0.9445596\n",
            "Loss after epoch 165000  is  0.944515\n",
            "Loss after epoch 170000  is  0.944515\n",
            "Loss after epoch 175000  is  0.944515\n",
            "Loss after epoch 180000  is  0.944515\n",
            "Loss after epoch 185000  is  0.944515\n",
            "Loss after epoch 190000  is  0.944515\n",
            "Loss after epoch 195000  is  0.944515\n",
            "Now testing the model in the test set\n",
            "The final loss is:  0.99128884\n"
          ],
          "name": "stdout"
        },
        {
          "output_type": "display_data",
          "data": {
            "image/png": "[encoded data removed]",
            "text/plain": [
              "<matplotlib.figure.Figure at 0x7f180e7e25f8>"
            ]
          },
          "metadata": {
            "tags": []
          }
        }
      ]
    }
  ]
}